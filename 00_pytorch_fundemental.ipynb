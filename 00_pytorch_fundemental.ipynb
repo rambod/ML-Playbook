{
  "nbformat": 4,
  "nbformat_minor": 0,
  "metadata": {
    "colab": {
      "provenance": [],
      "gpuType": "T4",
      "collapsed_sections": [
        "eTjVlXdDHubu",
        "s53qydqnHp6_",
        "ul8DAcN9GWUr",
        "ZQQjHN4nE3hK",
        "mp760lT1HcgK",
        "6D3qi1diJGCo",
        "P9YBjUvy2ERi",
        "xVbkYwGA6CHm"
      ],
      "authorship_tag": "ABX9TyOCd/zVF/qC6/O9fC7P13Jc",
      "include_colab_link": true
    },
    "kernelspec": {
      "name": "python3",
      "display_name": "Python 3"
    },
    "language_info": {
      "name": "python"
    },
    "accelerator": "GPU"
  },
  "cells": [
    {
      "cell_type": "markdown",
      "metadata": {
        "id": "view-in-github",
        "colab_type": "text"
      },
      "source": [
        "<a href=\"https://colab.research.google.com/github/rambod/ML-Playbook/blob/main/00_pytorch_fundemental.ipynb\" target=\"_parent\"><img src=\"https://colab.research.google.com/assets/colab-badge.svg\" alt=\"Open In Colab\"/></a>"
      ]
    },
    {
      "cell_type": "markdown",
      "source": [
        "# Checking GPU\n",
        "\n"
      ],
      "metadata": {
        "id": "eTjVlXdDHubu"
      }
    },
    {
      "cell_type": "code",
      "execution_count": 48,
      "metadata": {
        "colab": {
          "base_uri": "https://localhost:8080/"
        },
        "id": "PGUXmrG1Da1m",
        "outputId": "7170b262-44dc-4005-9d73-cd905fff6b88"
      },
      "outputs": [
        {
          "output_type": "stream",
          "name": "stdout",
          "text": [
            "/bin/bash: line 1: nvidia-smi: command not found\n"
          ]
        }
      ],
      "source": [
        "!nvidia-smi"
      ]
    },
    {
      "cell_type": "markdown",
      "source": [
        "# Imports"
      ],
      "metadata": {
        "id": "s53qydqnHp6_"
      }
    },
    {
      "cell_type": "code",
      "source": [
        "import torch\n",
        "import pandas as pd\n",
        "import numpy as np\n",
        "import matplotlib.pyplot as plt\n",
        "print(torch.__version__)\n"
      ],
      "metadata": {
        "colab": {
          "base_uri": "https://localhost:8080/"
        },
        "id": "J8T3dcSfD8z8",
        "outputId": "b467fbac-53eb-4886-8065-82709fc28212"
      },
      "execution_count": 49,
      "outputs": [
        {
          "output_type": "stream",
          "name": "stdout",
          "text": [
            "2.0.1+cu118\n"
          ]
        }
      ]
    },
    {
      "cell_type": "markdown",
      "source": [
        "# Introcducing to Tnesor\n",
        "Creating tensor"
      ],
      "metadata": {
        "id": "ul8DAcN9GWUr"
      }
    },
    {
      "cell_type": "code",
      "source": [
        "scalar = torch.tensor(7)\n",
        "scalar"
      ],
      "metadata": {
        "colab": {
          "base_uri": "https://localhost:8080/"
        },
        "id": "cBbHmCEDGf4F",
        "outputId": "f64a5c79-47a7-483e-8227-9f76346e3a91"
      },
      "execution_count": 50,
      "outputs": [
        {
          "output_type": "execute_result",
          "data": {
            "text/plain": [
              "tensor(7)"
            ]
          },
          "metadata": {},
          "execution_count": 50
        }
      ]
    },
    {
      "cell_type": "code",
      "source": [
        "scalar.ndim"
      ],
      "metadata": {
        "colab": {
          "base_uri": "https://localhost:8080/"
        },
        "id": "mCJnCN35HRq0",
        "outputId": "7626e9f4-555a-47df-ab70-ce38381fcb62"
      },
      "execution_count": 51,
      "outputs": [
        {
          "output_type": "execute_result",
          "data": {
            "text/plain": [
              "0"
            ]
          },
          "metadata": {},
          "execution_count": 51
        }
      ]
    },
    {
      "cell_type": "code",
      "source": [
        "scalar.item()"
      ],
      "metadata": {
        "colab": {
          "base_uri": "https://localhost:8080/"
        },
        "id": "4HHC7ovIHUZA",
        "outputId": "256aeb99-9455-4a15-d41b-d8538c9dc482"
      },
      "execution_count": 52,
      "outputs": [
        {
          "output_type": "execute_result",
          "data": {
            "text/plain": [
              "7"
            ]
          },
          "metadata": {},
          "execution_count": 52
        }
      ]
    },
    {
      "cell_type": "code",
      "source": [
        "#Vector\n",
        "vector = torch.tensor([7,7])\n",
        "vector"
      ],
      "metadata": {
        "colab": {
          "base_uri": "https://localhost:8080/"
        },
        "id": "mipw-jfCHaif",
        "outputId": "88703952-16aa-4937-920c-b726dd654464"
      },
      "execution_count": 53,
      "outputs": [
        {
          "output_type": "execute_result",
          "data": {
            "text/plain": [
              "tensor([7, 7])"
            ]
          },
          "metadata": {},
          "execution_count": 53
        }
      ]
    },
    {
      "cell_type": "code",
      "source": [
        "vector.ndim"
      ],
      "metadata": {
        "colab": {
          "base_uri": "https://localhost:8080/"
        },
        "id": "I6pEx8N-HhRw",
        "outputId": "b4722785-2246-4af6-97f4-ad6e54604b3a"
      },
      "execution_count": 54,
      "outputs": [
        {
          "output_type": "execute_result",
          "data": {
            "text/plain": [
              "1"
            ]
          },
          "metadata": {},
          "execution_count": 54
        }
      ]
    },
    {
      "cell_type": "code",
      "source": [
        "vector.shape"
      ],
      "metadata": {
        "colab": {
          "base_uri": "https://localhost:8080/"
        },
        "id": "pJ3LjIT9H4-J",
        "outputId": "70c1e383-282b-4568-eb2c-705ba3b6aad9"
      },
      "execution_count": 55,
      "outputs": [
        {
          "output_type": "execute_result",
          "data": {
            "text/plain": [
              "torch.Size([2])"
            ]
          },
          "metadata": {},
          "execution_count": 55
        }
      ]
    },
    {
      "cell_type": "code",
      "source": [
        "MATRIX = torch.tensor([[7,8],[9,10]])\n",
        "MATRIX"
      ],
      "metadata": {
        "colab": {
          "base_uri": "https://localhost:8080/"
        },
        "id": "xjFbWq4mH6aQ",
        "outputId": "d3c91a5c-9de8-410d-8d79-40c0a2981e03"
      },
      "execution_count": 56,
      "outputs": [
        {
          "output_type": "execute_result",
          "data": {
            "text/plain": [
              "tensor([[ 7,  8],\n",
              "        [ 9, 10]])"
            ]
          },
          "metadata": {},
          "execution_count": 56
        }
      ]
    },
    {
      "cell_type": "code",
      "source": [
        "MATRIX.ndim"
      ],
      "metadata": {
        "colab": {
          "base_uri": "https://localhost:8080/"
        },
        "id": "LSZVHYqKV5Va",
        "outputId": "f172b400-a899-4a89-f3f4-cefc80d3c251"
      },
      "execution_count": 57,
      "outputs": [
        {
          "output_type": "execute_result",
          "data": {
            "text/plain": [
              "2"
            ]
          },
          "metadata": {},
          "execution_count": 57
        }
      ]
    },
    {
      "cell_type": "code",
      "source": [
        "MATRIX[0]"
      ],
      "metadata": {
        "colab": {
          "base_uri": "https://localhost:8080/"
        },
        "id": "ekVLI_iSWF0L",
        "outputId": "ae5bea4a-f437-44a2-c3ee-3922229357a3"
      },
      "execution_count": 58,
      "outputs": [
        {
          "output_type": "execute_result",
          "data": {
            "text/plain": [
              "tensor([7, 8])"
            ]
          },
          "metadata": {},
          "execution_count": 58
        }
      ]
    },
    {
      "cell_type": "code",
      "source": [
        "MATRIX.shape"
      ],
      "metadata": {
        "colab": {
          "base_uri": "https://localhost:8080/"
        },
        "id": "e_Viy_JFWKsz",
        "outputId": "64727578-fe7a-4bf7-f772-a770630371e5"
      },
      "execution_count": 59,
      "outputs": [
        {
          "output_type": "execute_result",
          "data": {
            "text/plain": [
              "torch.Size([2, 2])"
            ]
          },
          "metadata": {},
          "execution_count": 59
        }
      ]
    },
    {
      "cell_type": "code",
      "source": [
        "from torch.functional import Tensor\n",
        "# TENSOR\n",
        "TENSOR = torch.tensor([[[1,2,3],[3,6,9],[2,4,5]]])\n",
        "\n",
        "TENSOR"
      ],
      "metadata": {
        "colab": {
          "base_uri": "https://localhost:8080/"
        },
        "id": "UPJqacZqWTvU",
        "outputId": "fd0c8e47-0062-410c-b74f-ac8aef324ddf"
      },
      "execution_count": 60,
      "outputs": [
        {
          "output_type": "execute_result",
          "data": {
            "text/plain": [
              "tensor([[[1, 2, 3],\n",
              "         [3, 6, 9],\n",
              "         [2, 4, 5]]])"
            ]
          },
          "metadata": {},
          "execution_count": 60
        }
      ]
    },
    {
      "cell_type": "code",
      "source": [
        "TENSOR.ndim"
      ],
      "metadata": {
        "colab": {
          "base_uri": "https://localhost:8080/"
        },
        "id": "N6fQtAgoWr-k",
        "outputId": "01904298-79ce-4cba-e3b3-88496bd71900"
      },
      "execution_count": 61,
      "outputs": [
        {
          "output_type": "execute_result",
          "data": {
            "text/plain": [
              "3"
            ]
          },
          "metadata": {},
          "execution_count": 61
        }
      ]
    },
    {
      "cell_type": "code",
      "source": [
        "TENSOR.shape"
      ],
      "metadata": {
        "colab": {
          "base_uri": "https://localhost:8080/"
        },
        "id": "l3kBhLWbWwjT",
        "outputId": "01398c7f-bae5-4ea3-893b-56ef2ccdf1b7"
      },
      "execution_count": 62,
      "outputs": [
        {
          "output_type": "execute_result",
          "data": {
            "text/plain": [
              "torch.Size([1, 3, 3])"
            ]
          },
          "metadata": {},
          "execution_count": 62
        }
      ]
    },
    {
      "cell_type": "code",
      "source": [
        "TENSOR[0]"
      ],
      "metadata": {
        "colab": {
          "base_uri": "https://localhost:8080/"
        },
        "id": "eRYhevRvWy98",
        "outputId": "d083ab93-3dec-4af0-a447-c2f700a8eddb"
      },
      "execution_count": 63,
      "outputs": [
        {
          "output_type": "execute_result",
          "data": {
            "text/plain": [
              "tensor([[1, 2, 3],\n",
              "        [3, 6, 9],\n",
              "        [2, 4, 5]])"
            ]
          },
          "metadata": {},
          "execution_count": 63
        }
      ]
    },
    {
      "cell_type": "code",
      "source": [
        "TENSOR[0][1]"
      ],
      "metadata": {
        "colab": {
          "base_uri": "https://localhost:8080/"
        },
        "id": "nPnJDvu3W86M",
        "outputId": "d59e6008-3da8-4d33-c2f3-7eed98d775b3"
      },
      "execution_count": 64,
      "outputs": [
        {
          "output_type": "execute_result",
          "data": {
            "text/plain": [
              "tensor([3, 6, 9])"
            ]
          },
          "metadata": {},
          "execution_count": 64
        }
      ]
    },
    {
      "cell_type": "markdown",
      "source": [
        "# Random Tensor\n",
        "Why Random Tensors?\n",
        "Random tensors are importnat the way many neural networks learn is that\n",
        "they start with tensor full og random numbers and then adjust those random numbers\n",
        "to better reperesnt the data\n",
        "```\n",
        "Satrt With Random numbers -> look at the data -> update random numbers -> look at data -> update random numbers\n",
        "```\n",
        "Torch Random tensor docs - https://pytorch.org/docs/stable/generated/torch.rand.html"
      ],
      "metadata": {
        "id": "ZQQjHN4nE3hK"
      }
    },
    {
      "cell_type": "code",
      "source": [
        "# Create a random tensor of size or shape (3,4)\n",
        "random_tensor = torch.rand(1,10,10,10)\n",
        "random_tensor"
      ],
      "metadata": {
        "id": "CwD2m9I4XBPk",
        "colab": {
          "base_uri": "https://localhost:8080/"
        },
        "outputId": "281d39ee-7617-449e-e0d8-0610007518d0"
      },
      "execution_count": 65,
      "outputs": [
        {
          "output_type": "execute_result",
          "data": {
            "text/plain": [
              "tensor([[[[0.8237, 0.2346, 0.1765, 0.1373, 0.0344, 0.5404, 0.5254, 0.1484,\n",
              "           0.1345, 0.5929],\n",
              "          [0.0642, 0.2908, 0.5709, 0.1696, 0.8408, 0.5390, 0.8868, 0.8968,\n",
              "           0.7719, 0.3055],\n",
              "          [0.1324, 0.1686, 0.9543, 0.5991, 0.0287, 0.9179, 0.4877, 0.7694,\n",
              "           0.0312, 0.8531],\n",
              "          [0.7249, 0.4041, 0.8073, 0.2390, 0.8141, 0.7810, 0.2621, 0.7695,\n",
              "           0.7368, 0.7149],\n",
              "          [0.8022, 0.3812, 0.5838, 0.6746, 0.2598, 0.7139, 0.7975, 0.8731,\n",
              "           0.2532, 0.6769],\n",
              "          [0.5165, 0.8735, 0.4872, 0.7742, 0.1189, 0.3625, 0.6609, 0.3210,\n",
              "           0.7840, 0.2105],\n",
              "          [0.0484, 0.7796, 0.5589, 0.1638, 0.9444, 0.2705, 0.8657, 0.6063,\n",
              "           0.8037, 0.8564],\n",
              "          [0.8622, 0.7387, 0.1207, 0.7051, 0.0942, 0.1194, 0.9349, 0.7467,\n",
              "           0.7260, 0.7121],\n",
              "          [0.8355, 0.6826, 0.7551, 0.6045, 0.9637, 0.1544, 0.3487, 0.5260,\n",
              "           0.9089, 0.9035],\n",
              "          [0.6319, 0.3027, 0.3995, 0.9316, 0.6798, 0.9732, 0.7408, 0.5418,\n",
              "           0.2304, 0.4586]],\n",
              "\n",
              "         [[0.0248, 0.3185, 0.2677, 0.4115, 0.4169, 0.2100, 0.4988, 0.2191,\n",
              "           0.0273, 0.4857],\n",
              "          [0.5348, 0.0798, 0.1226, 0.4603, 0.5974, 0.0345, 0.4361, 0.4720,\n",
              "           0.1136, 0.9690],\n",
              "          [0.9982, 0.4427, 0.7924, 0.9661, 0.3480, 0.6896, 0.6110, 0.2262,\n",
              "           0.6904, 0.0458],\n",
              "          [0.3866, 0.7529, 0.8027, 0.6061, 0.7558, 0.7952, 0.2889, 0.5431,\n",
              "           0.2705, 0.5274],\n",
              "          [0.1013, 0.6726, 0.9906, 0.1116, 0.3115, 0.4362, 0.3240, 0.2268,\n",
              "           0.4280, 0.1281],\n",
              "          [0.5476, 0.8514, 0.2215, 0.5042, 0.9249, 0.1760, 0.6752, 0.5077,\n",
              "           0.7848, 0.1657],\n",
              "          [0.4142, 0.9930, 0.8595, 0.8250, 0.6846, 0.4361, 0.8654, 0.3084,\n",
              "           0.8393, 0.0173],\n",
              "          [0.6374, 0.0971, 0.2788, 0.0355, 0.7146, 0.2299, 0.8099, 0.3311,\n",
              "           0.4985, 0.3437],\n",
              "          [0.2063, 0.2305, 0.7185, 0.6998, 0.5909, 0.1337, 0.8931, 0.6308,\n",
              "           0.8273, 0.1608],\n",
              "          [0.2008, 0.6937, 0.3067, 0.8998, 0.8089, 0.7876, 0.9891, 0.6088,\n",
              "           0.7098, 0.3842]],\n",
              "\n",
              "         [[0.1755, 0.8565, 0.9258, 0.3759, 0.8646, 0.8548, 0.1786, 0.4898,\n",
              "           0.7840, 0.9568],\n",
              "          [0.9820, 0.5766, 0.3675, 0.6670, 0.6796, 0.6619, 0.1551, 0.5139,\n",
              "           0.4425, 0.0768],\n",
              "          [0.6867, 0.8131, 0.3723, 0.6048, 0.1926, 0.2925, 0.4234, 0.6847,\n",
              "           0.5269, 0.3829],\n",
              "          [0.7555, 0.6055, 0.6388, 0.9058, 0.5335, 0.7181, 0.0427, 0.1598,\n",
              "           0.3685, 0.8041],\n",
              "          [0.4879, 0.3103, 0.9941, 0.1963, 0.0053, 0.4161, 0.5046, 0.9397,\n",
              "           0.7602, 0.9342],\n",
              "          [0.6192, 0.2016, 0.2877, 0.7424, 0.7700, 0.5059, 0.2878, 0.3137,\n",
              "           0.8836, 0.1205],\n",
              "          [0.7439, 0.3485, 0.5286, 0.9264, 0.4268, 0.4921, 0.1500, 0.9772,\n",
              "           0.2472, 0.4459],\n",
              "          [0.4330, 0.7558, 0.2850, 0.5930, 0.2122, 0.6380, 0.4621, 0.3826,\n",
              "           0.2697, 0.5205],\n",
              "          [0.8138, 0.7603, 0.7775, 0.9052, 0.2470, 0.5216, 0.6067, 0.4941,\n",
              "           0.1532, 0.1631],\n",
              "          [0.7107, 0.6000, 0.7046, 0.3538, 0.5814, 0.6839, 0.3659, 0.7237,\n",
              "           0.5174, 0.2926]],\n",
              "\n",
              "         [[0.3565, 0.9604, 0.0220, 0.4646, 0.5033, 0.5081, 0.1250, 0.2025,\n",
              "           0.2391, 0.4997],\n",
              "          [0.5500, 0.8358, 0.0423, 0.5763, 0.9476, 0.6606, 0.7109, 0.4416,\n",
              "           0.6495, 0.3359],\n",
              "          [0.4708, 0.8938, 0.0672, 0.1803, 0.2152, 0.0981, 0.7619, 0.7729,\n",
              "           0.6077, 0.4448],\n",
              "          [0.8367, 0.7547, 0.0442, 0.4629, 0.2896, 0.3145, 0.6509, 0.2289,\n",
              "           0.5833, 0.1985],\n",
              "          [0.8742, 0.1762, 0.9356, 0.8341, 0.9758, 0.0486, 0.7951, 0.8080,\n",
              "           0.7325, 0.7365],\n",
              "          [0.7604, 0.0818, 0.5251, 0.5600, 0.8826, 0.2256, 0.2809, 0.2815,\n",
              "           0.4323, 0.7326],\n",
              "          [0.2040, 0.1412, 0.1557, 0.9483, 0.8208, 0.5673, 0.9033, 0.6687,\n",
              "           0.0208, 0.3436],\n",
              "          [0.4233, 0.5779, 0.5407, 0.7081, 0.2898, 0.9315, 0.5264, 0.3590,\n",
              "           0.0871, 0.3115],\n",
              "          [0.3001, 0.7659, 0.1223, 0.4184, 0.2276, 0.9896, 0.7847, 0.7862,\n",
              "           0.9412, 0.5893],\n",
              "          [0.0727, 0.4722, 0.6181, 0.8025, 0.7210, 0.2553, 0.9333, 0.0554,\n",
              "           0.3964, 0.5779]],\n",
              "\n",
              "         [[0.8302, 0.1998, 0.2118, 0.3169, 0.6199, 0.6895, 0.0013, 0.7855,\n",
              "           0.7391, 0.8983],\n",
              "          [0.2762, 0.2202, 0.6798, 0.5116, 0.6244, 0.3940, 0.8812, 0.6129,\n",
              "           0.5083, 0.9395],\n",
              "          [0.4023, 0.8201, 0.6537, 0.6070, 0.9863, 0.0895, 0.8687, 0.4980,\n",
              "           0.8922, 0.1234],\n",
              "          [0.1549, 0.5192, 0.7547, 0.4070, 0.0841, 0.8543, 0.2409, 0.4984,\n",
              "           0.3939, 0.3059],\n",
              "          [0.9817, 0.8687, 0.5182, 0.7914, 0.8427, 0.0840, 0.1714, 0.9708,\n",
              "           0.1829, 0.4071],\n",
              "          [0.9087, 0.1119, 0.9975, 0.7167, 0.9751, 0.2754, 0.5555, 0.8728,\n",
              "           0.1554, 0.7714],\n",
              "          [0.2898, 0.5531, 0.4133, 0.8969, 0.4993, 0.5356, 0.0613, 0.9298,\n",
              "           0.3970, 0.6248],\n",
              "          [0.4051, 0.3611, 0.8982, 0.6381, 0.9083, 0.9763, 0.2009, 0.3057,\n",
              "           0.0347, 0.6787],\n",
              "          [0.7879, 0.2628, 0.6778, 0.9314, 0.7280, 0.2270, 0.7949, 0.0340,\n",
              "           0.7473, 0.9022],\n",
              "          [0.5017, 0.4187, 0.0032, 0.4799, 0.4492, 0.7473, 0.1322, 0.9139,\n",
              "           0.9347, 0.2467]],\n",
              "\n",
              "         [[0.8220, 0.9514, 0.8437, 0.0292, 0.7387, 0.5521, 0.3648, 0.9664,\n",
              "           0.5162, 0.6928],\n",
              "          [0.5601, 0.3058, 0.8376, 0.0787, 0.4101, 0.2003, 0.5276, 0.7846,\n",
              "           0.9290, 0.7112],\n",
              "          [0.2368, 0.0526, 0.6756, 0.6837, 0.4810, 0.4917, 0.5223, 0.2990,\n",
              "           0.9321, 0.9813],\n",
              "          [0.8823, 0.7031, 0.3464, 0.3540, 0.0835, 0.2412, 0.5476, 0.8394,\n",
              "           0.8175, 0.8107],\n",
              "          [0.2371, 0.0338, 0.4072, 0.2256, 0.7236, 0.1788, 0.0869, 0.8420,\n",
              "           0.6652, 0.8099],\n",
              "          [0.0192, 0.4039, 0.3565, 0.6337, 0.4456, 0.7189, 0.8754, 0.1576,\n",
              "           0.1338, 0.2227],\n",
              "          [0.5270, 0.6066, 0.7922, 0.9632, 0.8682, 0.4197, 0.3855, 0.7277,\n",
              "           0.2090, 0.5999],\n",
              "          [0.1740, 0.1856, 0.5560, 0.1152, 0.5474, 0.4373, 0.0454, 0.0369,\n",
              "           0.9639, 0.5681],\n",
              "          [0.4029, 0.7088, 0.5210, 0.9667, 0.4333, 0.5295, 0.0511, 0.6104,\n",
              "           0.3662, 0.0450],\n",
              "          [0.6368, 0.7337, 0.3770, 0.6039, 0.9929, 0.6610, 0.8760, 0.7376,\n",
              "           0.2447, 0.0351]],\n",
              "\n",
              "         [[0.2622, 0.5334, 0.0309, 0.3320, 0.5635, 0.6793, 0.0440, 0.8640,\n",
              "           0.3850, 0.2602],\n",
              "          [0.4568, 0.6062, 0.3770, 0.4919, 0.7350, 0.7604, 0.6688, 0.9652,\n",
              "           0.5060, 0.0602],\n",
              "          [0.3046, 0.1386, 0.5268, 0.6515, 0.2362, 0.2839, 0.0393, 0.5035,\n",
              "           0.2785, 0.7193],\n",
              "          [0.5432, 0.1632, 0.1841, 0.8603, 0.5842, 0.0554, 0.5908, 0.7079,\n",
              "           0.8278, 0.9048],\n",
              "          [0.6711, 0.7283, 0.8168, 0.0107, 0.9115, 0.1327, 0.6775, 0.8031,\n",
              "           0.0399, 0.2201],\n",
              "          [0.8137, 0.3145, 0.7235, 0.6062, 0.8601, 0.7551, 0.9259, 0.0686,\n",
              "           0.2079, 0.5747],\n",
              "          [0.1879, 0.1914, 0.6819, 0.6834, 0.2219, 0.7250, 0.7747, 0.8192,\n",
              "           0.0539, 0.7622],\n",
              "          [0.9301, 0.7629, 0.9210, 0.2999, 0.6488, 0.7572, 0.2954, 0.1336,\n",
              "           0.6589, 0.4658],\n",
              "          [0.4253, 0.1803, 0.7559, 0.8041, 0.0218, 0.7248, 0.5682, 0.5180,\n",
              "           0.9876, 0.0201],\n",
              "          [0.9937, 0.3922, 0.9365, 0.8150, 0.9721, 0.3295, 0.7670, 0.8151,\n",
              "           0.0484, 0.5969]],\n",
              "\n",
              "         [[0.9570, 0.8918, 0.6880, 0.6188, 0.9026, 0.7545, 0.0590, 0.0451,\n",
              "           0.6401, 0.9270],\n",
              "          [0.7368, 0.4969, 0.2633, 0.6246, 0.6793, 0.9005, 0.2962, 0.5756,\n",
              "           0.3663, 0.0303],\n",
              "          [0.0789, 0.5602, 0.2938, 0.1340, 0.6787, 0.2595, 0.7926, 0.0620,\n",
              "           0.0501, 0.9309],\n",
              "          [0.2710, 0.9003, 0.2377, 0.9930, 0.9162, 0.7177, 0.7649, 0.4962,\n",
              "           0.4219, 0.7672],\n",
              "          [0.1419, 0.0230, 0.8160, 0.0897, 0.0232, 0.4379, 0.6633, 0.7317,\n",
              "           0.9861, 0.9414],\n",
              "          [0.8760, 0.0149, 0.2930, 0.1356, 0.5141, 0.5314, 0.7594, 0.5508,\n",
              "           0.2891, 0.6688],\n",
              "          [0.5755, 0.3733, 0.2545, 0.3344, 0.4308, 0.5559, 0.5670, 0.5284,\n",
              "           0.7946, 0.0108],\n",
              "          [0.1341, 0.1802, 0.3102, 0.1048, 0.3467, 0.2867, 0.6224, 0.0229,\n",
              "           0.4176, 0.2450],\n",
              "          [0.0432, 0.8497, 0.4840, 0.9613, 0.6809, 0.5928, 0.6232, 0.6789,\n",
              "           0.4114, 0.6246],\n",
              "          [0.8917, 0.4146, 0.8885, 0.2815, 0.0402, 0.5061, 0.2783, 0.9227,\n",
              "           0.5523, 0.1797]],\n",
              "\n",
              "         [[0.4775, 0.6063, 0.8712, 0.9533, 0.4115, 0.2595, 0.5769, 0.7798,\n",
              "           0.5424, 0.9342],\n",
              "          [0.0275, 0.8490, 0.3711, 0.7750, 0.4636, 0.1581, 0.1736, 0.1464,\n",
              "           0.2524, 0.0089],\n",
              "          [0.4702, 0.2877, 0.8225, 0.6754, 0.2335, 0.6314, 0.3494, 0.2906,\n",
              "           0.6694, 0.2838],\n",
              "          [0.0031, 0.1295, 0.4586, 0.8822, 0.3751, 0.4558, 0.9713, 0.7608,\n",
              "           0.7014, 0.8580],\n",
              "          [0.9279, 0.9037, 0.2343, 0.5069, 0.0179, 0.7521, 0.3556, 0.9457,\n",
              "           0.3882, 0.7765],\n",
              "          [0.1356, 0.7729, 0.5833, 0.0420, 0.8373, 0.6341, 0.0214, 0.0279,\n",
              "           0.1241, 0.3359],\n",
              "          [0.9086, 0.6924, 0.7445, 0.8411, 0.4888, 0.0591, 0.4732, 0.9559,\n",
              "           0.9971, 0.7924],\n",
              "          [0.8009, 0.0394, 0.5404, 0.2034, 0.9551, 0.7232, 0.0680, 0.0720,\n",
              "           0.7342, 0.9353],\n",
              "          [0.3760, 0.0504, 0.2470, 0.3097, 0.1266, 0.1518, 0.4413, 0.0960,\n",
              "           0.9298, 0.4572],\n",
              "          [0.1615, 0.2310, 0.4497, 0.0592, 0.0431, 0.3650, 0.7612, 0.1358,\n",
              "           0.1185, 0.4365]],\n",
              "\n",
              "         [[0.1049, 0.2091, 0.2347, 0.9751, 0.4454, 0.5576, 0.5704, 0.3508,\n",
              "           0.1429, 0.8986],\n",
              "          [0.1755, 0.9551, 0.9024, 0.9587, 0.1546, 0.9855, 0.1974, 0.6569,\n",
              "           0.1466, 0.0060],\n",
              "          [0.3698, 0.2282, 0.8989, 0.6107, 0.3881, 0.5658, 0.1350, 0.3283,\n",
              "           0.1760, 0.9500],\n",
              "          [0.1493, 0.2672, 0.6133, 0.9699, 0.7644, 0.5231, 0.3103, 0.5713,\n",
              "           0.6393, 0.6635],\n",
              "          [0.8498, 0.8344, 0.5909, 0.9864, 0.0326, 0.5919, 0.1720, 0.0361,\n",
              "           0.7542, 0.2144],\n",
              "          [0.9954, 0.2855, 0.9528, 0.1580, 0.8623, 0.7334, 0.2955, 0.2900,\n",
              "           0.3625, 0.5747],\n",
              "          [0.5838, 0.2679, 0.7879, 0.6306, 0.5217, 0.7811, 0.1886, 0.7284,\n",
              "           0.9698, 0.9652],\n",
              "          [0.0101, 0.8985, 0.0982, 0.6396, 0.9609, 0.9003, 0.8950, 0.4749,\n",
              "           0.6250, 0.4851],\n",
              "          [0.5930, 0.1781, 0.0850, 0.8604, 0.8348, 0.3175, 0.6450, 0.6975,\n",
              "           0.2555, 0.1370],\n",
              "          [0.3857, 0.9604, 0.7334, 0.5277, 0.2738, 0.7756, 0.1946, 0.7763,\n",
              "           0.2844, 0.0497]]]])"
            ]
          },
          "metadata": {},
          "execution_count": 65
        }
      ]
    },
    {
      "cell_type": "code",
      "source": [
        "random_tensor.ndim"
      ],
      "metadata": {
        "colab": {
          "base_uri": "https://localhost:8080/"
        },
        "id": "os8eDpWZF5jS",
        "outputId": "6787d82e-b61f-4a63-abb8-f1e2e5bc4402"
      },
      "execution_count": 66,
      "outputs": [
        {
          "output_type": "execute_result",
          "data": {
            "text/plain": [
              "4"
            ]
          },
          "metadata": {},
          "execution_count": 66
        }
      ]
    },
    {
      "cell_type": "code",
      "source": [
        "# Create a random tensor with similar shape to an image tensor\n",
        "random_image_size_tensor = torch.rand(size=(3,224,224))\n",
        "random_image_size_tensor.shape , random_image_size_tensor.ndim"
      ],
      "metadata": {
        "colab": {
          "base_uri": "https://localhost:8080/"
        },
        "id": "qlDHFmYmGGis",
        "outputId": "436010e8-57e4-47ef-ede4-d90b097e3ee8"
      },
      "execution_count": 67,
      "outputs": [
        {
          "output_type": "execute_result",
          "data": {
            "text/plain": [
              "(torch.Size([3, 224, 224]), 3)"
            ]
          },
          "metadata": {},
          "execution_count": 67
        }
      ]
    },
    {
      "cell_type": "code",
      "source": [
        "torch.rand(size=(3,3))"
      ],
      "metadata": {
        "colab": {
          "base_uri": "https://localhost:8080/"
        },
        "id": "X_wgBq8_Gsu0",
        "outputId": "2560c752-3a98-4f81-8569-d61bc43b1be2"
      },
      "execution_count": 68,
      "outputs": [
        {
          "output_type": "execute_result",
          "data": {
            "text/plain": [
              "tensor([[0.5036, 0.3018, 0.1785],\n",
              "        [0.2673, 0.2640, 0.2134],\n",
              "        [0.2382, 0.9327, 0.2952]])"
            ]
          },
          "metadata": {},
          "execution_count": 68
        }
      ]
    },
    {
      "cell_type": "markdown",
      "source": [
        "# Zeros and Ones"
      ],
      "metadata": {
        "id": "mp760lT1HcgK"
      }
    },
    {
      "cell_type": "code",
      "source": [
        "#Create a tensor of all zeros\n",
        "zero = torch.zeros(size=(3,4))\n",
        "zero"
      ],
      "metadata": {
        "colab": {
          "base_uri": "https://localhost:8080/"
        },
        "id": "IYH0SxnKHaHi",
        "outputId": "537f8a6f-b999-4231-a923-cab8d176a551"
      },
      "execution_count": 69,
      "outputs": [
        {
          "output_type": "execute_result",
          "data": {
            "text/plain": [
              "tensor([[0., 0., 0., 0.],\n",
              "        [0., 0., 0., 0.],\n",
              "        [0., 0., 0., 0.]])"
            ]
          },
          "metadata": {},
          "execution_count": 69
        }
      ]
    },
    {
      "cell_type": "code",
      "source": [
        "# Create a tensors of all ones\n",
        "ones = torch.ones(size=(3,4))\n",
        "ones"
      ],
      "metadata": {
        "colab": {
          "base_uri": "https://localhost:8080/"
        },
        "id": "aY1HNkShHoW6",
        "outputId": "62e1444f-2bb9-4b92-dcf9-c02b59c5fef5"
      },
      "execution_count": 70,
      "outputs": [
        {
          "output_type": "execute_result",
          "data": {
            "text/plain": [
              "tensor([[1., 1., 1., 1.],\n",
              "        [1., 1., 1., 1.],\n",
              "        [1., 1., 1., 1.]])"
            ]
          },
          "metadata": {},
          "execution_count": 70
        }
      ]
    },
    {
      "cell_type": "code",
      "source": [
        "random_tensor.dtype"
      ],
      "metadata": {
        "colab": {
          "base_uri": "https://localhost:8080/"
        },
        "id": "nnxubamrH3hJ",
        "outputId": "d646cfaf-0524-4143-eb01-1e8a91a3b559"
      },
      "execution_count": 71,
      "outputs": [
        {
          "output_type": "execute_result",
          "data": {
            "text/plain": [
              "torch.float32"
            ]
          },
          "metadata": {},
          "execution_count": 71
        }
      ]
    },
    {
      "cell_type": "markdown",
      "source": [
        "# Creating a range of tensors and tenors-like\n",
        "docs -> https://pytorch.org/docs/stable/generated/torch.arange.html"
      ],
      "metadata": {
        "id": "6D3qi1diJGCo"
      }
    },
    {
      "cell_type": "code",
      "source": [
        "# Use torch.range()\n",
        "one_to_ten = torch.arange(1,11)\n",
        "one_to_ten"
      ],
      "metadata": {
        "colab": {
          "base_uri": "https://localhost:8080/"
        },
        "id": "0v0LnKOMH7LJ",
        "outputId": "b9d87289-d7ae-4681-c69c-44a6b4b5c554"
      },
      "execution_count": 72,
      "outputs": [
        {
          "output_type": "execute_result",
          "data": {
            "text/plain": [
              "tensor([ 1,  2,  3,  4,  5,  6,  7,  8,  9, 10])"
            ]
          },
          "metadata": {},
          "execution_count": 72
        }
      ]
    },
    {
      "cell_type": "code",
      "source": [
        "torch_aranage = torch.arange(start=0, end = 100, step = 12)\n",
        "torch_aranage"
      ],
      "metadata": {
        "colab": {
          "base_uri": "https://localhost:8080/"
        },
        "id": "ty60Xy8SJXKe",
        "outputId": "90dbfc41-9be4-4671-edbf-629c11de3d23"
      },
      "execution_count": 73,
      "outputs": [
        {
          "output_type": "execute_result",
          "data": {
            "text/plain": [
              "tensor([ 0, 12, 24, 36, 48, 60, 72, 84, 96])"
            ]
          },
          "metadata": {},
          "execution_count": 73
        }
      ]
    },
    {
      "cell_type": "code",
      "source": [
        "#Creating tesors like\n",
        "ten_zeros = torch.zeros_like(input=torch_aranage)\n",
        "ten_zeros"
      ],
      "metadata": {
        "colab": {
          "base_uri": "https://localhost:8080/"
        },
        "id": "9Ujt2B9vJ70Q",
        "outputId": "5ec61d69-0634-4aa4-992d-b2ee235d31a1"
      },
      "execution_count": 74,
      "outputs": [
        {
          "output_type": "execute_result",
          "data": {
            "text/plain": [
              "tensor([0, 0, 0, 0, 0, 0, 0, 0, 0])"
            ]
          },
          "metadata": {},
          "execution_count": 74
        }
      ]
    },
    {
      "cell_type": "markdown",
      "source": [
        "# Tensor Datatypes\n",
        "\n",
        "doc -> https://pytorch.org/docs/stable/tensors.html\n",
        "** Note :** Tensor datatype is one the 3 big issues or erors youll run into with oytirch\n",
        "1. Tensor not right datatype\n",
        "2. Tensor not right shape\n",
        "3. Tensor not on the right device\n"
      ],
      "metadata": {
        "id": "P9YBjUvy2ERi"
      }
    },
    {
      "cell_type": "code",
      "source": [
        "#float 32 tensor\n",
        "float_32_tensor = torch.tensor([3.0,6.0,9.0],\n",
        "                               dtype=None, # what data type is the tensor ( eg. 32 bit , 16 bit , 64 bit)\n",
        "                               device=\"cpu\", # What device is you tensor it can be CPU or GPU (\"cuda\")\n",
        "                               requires_grad=False # wheter or not to track gradients with this tensor opreations\n",
        "                               )\n",
        "float_32_tensor"
      ],
      "metadata": {
        "colab": {
          "base_uri": "https://localhost:8080/"
        },
        "id": "kxAvwiKU1tp1",
        "outputId": "71f80613-483e-4bfb-d490-3268e1968bca"
      },
      "execution_count": 75,
      "outputs": [
        {
          "output_type": "execute_result",
          "data": {
            "text/plain": [
              "tensor([3., 6., 9.])"
            ]
          },
          "metadata": {},
          "execution_count": 75
        }
      ]
    },
    {
      "cell_type": "code",
      "source": [
        "float_16_tensor = float_32_tensor.type(torch.float16)\n",
        "float_16_tensor"
      ],
      "metadata": {
        "colab": {
          "base_uri": "https://localhost:8080/"
        },
        "id": "Edh1Pp6e2hU9",
        "outputId": "99982294-a383-4437-a96a-a0ea6306cc69"
      },
      "execution_count": 76,
      "outputs": [
        {
          "output_type": "execute_result",
          "data": {
            "text/plain": [
              "tensor([3., 6., 9.], dtype=torch.float16)"
            ]
          },
          "metadata": {},
          "execution_count": 76
        }
      ]
    },
    {
      "cell_type": "code",
      "source": [
        "float_16_tensor * float_32_tensor"
      ],
      "metadata": {
        "colab": {
          "base_uri": "https://localhost:8080/"
        },
        "id": "DBRhAzh54luF",
        "outputId": "44b3b671-8810-485f-de4a-068a5a37da23"
      },
      "execution_count": 77,
      "outputs": [
        {
          "output_type": "execute_result",
          "data": {
            "text/plain": [
              "tensor([ 9., 36., 81.])"
            ]
          },
          "metadata": {},
          "execution_count": 77
        }
      ]
    },
    {
      "cell_type": "code",
      "source": [
        "int_32_tensor = torch.tensor([3,6,9], dtype= torch.int32)\n",
        "int_32_tensor"
      ],
      "metadata": {
        "colab": {
          "base_uri": "https://localhost:8080/"
        },
        "id": "jR8aYAAu44CT",
        "outputId": "0b5b8ca6-8f54-40bb-ec8d-0b5d91c3e823"
      },
      "execution_count": 78,
      "outputs": [
        {
          "output_type": "execute_result",
          "data": {
            "text/plain": [
              "tensor([3, 6, 9], dtype=torch.int32)"
            ]
          },
          "metadata": {},
          "execution_count": 78
        }
      ]
    },
    {
      "cell_type": "code",
      "source": [
        "float_32_tensor * int_32_tensor"
      ],
      "metadata": {
        "colab": {
          "base_uri": "https://localhost:8080/"
        },
        "id": "4D7ztw5y5URA",
        "outputId": "04b3caf7-66fc-4282-900e-e780b712447e"
      },
      "execution_count": 79,
      "outputs": [
        {
          "output_type": "execute_result",
          "data": {
            "text/plain": [
              "tensor([ 9., 36., 81.])"
            ]
          },
          "metadata": {},
          "execution_count": 79
        }
      ]
    },
    {
      "cell_type": "markdown",
      "source": [
        "\n",
        "\n",
        "---\n",
        "\n",
        "\n",
        "# Getting information from tensroes (Tensor Attribute)\n",
        "\n",
        "1. Tensor not right datatype - to  get datatype from a tensor ```tensor.dtype```\n",
        "2. Tensor not right shape - to get shappe from a atensor ```tensor.shape```\n",
        "3. Tensor not on the right device - to get device from a tensor ```tensor.device```\n"
      ],
      "metadata": {
        "id": "xVbkYwGA6CHm"
      }
    },
    {
      "cell_type": "code",
      "source": [
        "#Create tensor\n",
        "some_tensor = torch.rand(3,4)\n",
        "some_tensor"
      ],
      "metadata": {
        "colab": {
          "base_uri": "https://localhost:8080/"
        },
        "id": "_vrAvMeA5pvo",
        "outputId": "1bfd47f2-0b5e-4d13-cedd-abb83eef0d52"
      },
      "execution_count": 80,
      "outputs": [
        {
          "output_type": "execute_result",
          "data": {
            "text/plain": [
              "tensor([[0.7925, 0.9143, 0.6157, 0.2126],\n",
              "        [0.8377, 0.1448, 0.7234, 0.5995],\n",
              "        [0.3749, 0.6193, 0.7446, 0.1342]])"
            ]
          },
          "metadata": {},
          "execution_count": 80
        }
      ]
    },
    {
      "cell_type": "code",
      "source": [
        "#Find out detail about some tensor\n",
        "print(some_tensor)\n",
        "print(f\"Datatype of tensor : {some_tensor.dtype}\")\n",
        "print(f\"Shape of tensor : {some_tensor.shape}\")\n",
        "print(f\"Device of tensor : {some_tensor.device}\")"
      ],
      "metadata": {
        "colab": {
          "base_uri": "https://localhost:8080/"
        },
        "id": "u9gLL7E66yb4",
        "outputId": "18237bf3-1e4e-465c-ec65-d9679ee5973b"
      },
      "execution_count": 81,
      "outputs": [
        {
          "output_type": "stream",
          "name": "stdout",
          "text": [
            "tensor([[0.7925, 0.9143, 0.6157, 0.2126],\n",
            "        [0.8377, 0.1448, 0.7234, 0.5995],\n",
            "        [0.3749, 0.6193, 0.7446, 0.1342]])\n",
            "Datatype of tensor : torch.float32\n",
            "Shape of tensor : torch.Size([3, 4])\n",
            "Device of tensor : cpu\n"
          ]
        }
      ]
    },
    {
      "cell_type": "markdown",
      "source": [
        "# Mainpulating Tensor ( tensor operations )\n",
        "\n",
        "Tensor operations include:\n",
        "\n",
        "\n",
        "* Addition\n",
        "* Subtraction\n",
        "* Mulitipication\n",
        "* Division\n",
        "* Matrix Multipicaiton\n",
        "\n"
      ],
      "metadata": {
        "id": "AdM3Tc9j_trj"
      }
    },
    {
      "cell_type": "code",
      "source": [
        "#Create tensor\n",
        "tensorX = torch.tensor([1,2,3])\n",
        "tensorX = tensorX + 10\n",
        "tensorX"
      ],
      "metadata": {
        "colab": {
          "base_uri": "https://localhost:8080/"
        },
        "id": "_5f2xgdx7Jxt",
        "outputId": "3ee86676-471d-486a-ff85-5af77db5eec1"
      },
      "execution_count": 82,
      "outputs": [
        {
          "output_type": "execute_result",
          "data": {
            "text/plain": [
              "tensor([11, 12, 13])"
            ]
          },
          "metadata": {},
          "execution_count": 82
        }
      ]
    },
    {
      "cell_type": "code",
      "source": [
        "tensorX = tensorX * 10\n",
        "tensorX"
      ],
      "metadata": {
        "colab": {
          "base_uri": "https://localhost:8080/"
        },
        "id": "0QSCXHs4AWwu",
        "outputId": "d5f673d5-6828-461a-c6e3-8b4aeb84e421"
      },
      "execution_count": 83,
      "outputs": [
        {
          "output_type": "execute_result",
          "data": {
            "text/plain": [
              "tensor([110, 120, 130])"
            ]
          },
          "metadata": {},
          "execution_count": 83
        }
      ]
    },
    {
      "cell_type": "code",
      "source": [
        "tensorX = tensorX - 10\n",
        "tensorX"
      ],
      "metadata": {
        "colab": {
          "base_uri": "https://localhost:8080/"
        },
        "id": "vbbQS1b1Aq9Y",
        "outputId": "1d4c24ff-99c0-4439-8b4c-d5c4c0550b13"
      },
      "execution_count": 84,
      "outputs": [
        {
          "output_type": "execute_result",
          "data": {
            "text/plain": [
              "tensor([100, 110, 120])"
            ]
          },
          "metadata": {},
          "execution_count": 84
        }
      ]
    },
    {
      "cell_type": "code",
      "source": [
        "tensorX = tensorX.mul(2)\n",
        "tensorX"
      ],
      "metadata": {
        "colab": {
          "base_uri": "https://localhost:8080/"
        },
        "id": "Hk_r5LxEA_g-",
        "outputId": "5b2319f2-5be9-409a-c84c-2fe85d08a547"
      },
      "execution_count": 85,
      "outputs": [
        {
          "output_type": "execute_result",
          "data": {
            "text/plain": [
              "tensor([200, 220, 240])"
            ]
          },
          "metadata": {},
          "execution_count": 85
        }
      ]
    },
    {
      "cell_type": "code",
      "source": [
        "tensor = tensorX"
      ],
      "metadata": {
        "id": "Jn3IBId_niXd"
      },
      "execution_count": 86,
      "outputs": []
    },
    {
      "cell_type": "markdown",
      "source": [
        "# Matrix Multipication\n",
        "There is 2 way of multipication for matrix in nureal network and deep learning:\n",
        "1. Element-wise multipication\n",
        "2. Matrix multipication ( dot prodct )\n",
        "More information -> https://www.mathsisfun.com/algebra/matrix-multiplying.html\n",
        "Intarctive matrix multipication -> http://matrixmultiplication.xyz/\n",
        "\n",
        "There are two main rules that performing matrix multipication needs to satisfy:\n",
        "1. The **inner dimentions** must match:\n",
        "* `(3,2) @ (3,2)` won't work\n",
        "* `(2,3) @ (3,2)` will work\n",
        "* `(3,2) @ (2,3)` will work\n",
        "2. The resulting matrix has the shaoe of the **outer dimensions**:\n",
        "* `(2, 3) @ (3,2)` -> `(2,2)`\n",
        "* `(3, 2) @ (2,3)` -> `(3,3)`"
      ],
      "metadata": {
        "id": "MSdgFvO6BfcP"
      }
    },
    {
      "cell_type": "code",
      "source": [
        "torch.matmul(torch.rand(3,2),torch.rand(2,3))"
      ],
      "metadata": {
        "colab": {
          "base_uri": "https://localhost:8080/"
        },
        "id": "mdf7kLAHKLrs",
        "outputId": "69a1c85f-80c4-4f5d-bfbd-27419db3727a"
      },
      "execution_count": 87,
      "outputs": [
        {
          "output_type": "execute_result",
          "data": {
            "text/plain": [
              "tensor([[0.7950, 0.7002, 0.3473],\n",
              "        [0.3297, 0.5962, 0.1076],\n",
              "        [0.7165, 0.6121, 0.3153]])"
            ]
          },
          "metadata": {},
          "execution_count": 87
        }
      ]
    },
    {
      "cell_type": "code",
      "source": [
        "# Element wise multipication\n",
        "#print(tensor, \"*\" , tensor)\n",
        "#print(f\"Equals {tensor * tensor}\")"
      ],
      "metadata": {
        "id": "pVa9K2ivBTmY"
      },
      "execution_count": 88,
      "outputs": []
    },
    {
      "cell_type": "code",
      "source": [
        "torch.matmul(tensor, tensor)"
      ],
      "metadata": {
        "colab": {
          "base_uri": "https://localhost:8080/"
        },
        "id": "vjS9NItSDHF5",
        "outputId": "e7aa0980-eca8-406d-cf6f-cbef2847eb2b"
      },
      "execution_count": 89,
      "outputs": [
        {
          "output_type": "execute_result",
          "data": {
            "text/plain": [
              "tensor(146000)"
            ]
          },
          "metadata": {},
          "execution_count": 89
        }
      ]
    },
    {
      "cell_type": "code",
      "source": [
        "tensor"
      ],
      "metadata": {
        "colab": {
          "base_uri": "https://localhost:8080/"
        },
        "id": "40SDK6PdD7Da",
        "outputId": "c63561da-13e9-4851-f214-ec2b0e539b2e"
      },
      "execution_count": 90,
      "outputs": [
        {
          "output_type": "execute_result",
          "data": {
            "text/plain": [
              "tensor([200, 220, 240])"
            ]
          },
          "metadata": {},
          "execution_count": 90
        }
      ]
    },
    {
      "cell_type": "code",
      "source": [
        "# Matrix multipication nby hand\n",
        "1*1 + 2*2 + 3*3"
      ],
      "metadata": {
        "colab": {
          "base_uri": "https://localhost:8080/"
        },
        "id": "LEHEvn0iDc99",
        "outputId": "71a525f2-6b95-4b63-e19e-59f6c808e2ac"
      },
      "execution_count": 91,
      "outputs": [
        {
          "output_type": "execute_result",
          "data": {
            "text/plain": [
              "14"
            ]
          },
          "metadata": {},
          "execution_count": 91
        }
      ]
    },
    {
      "cell_type": "code",
      "source": [
        "%%time\n",
        "value = 0\n",
        "for i in range(len(tensor)):\n",
        "  value += tensor[i] * tensor[i]\n",
        "print(value)"
      ],
      "metadata": {
        "colab": {
          "base_uri": "https://localhost:8080/"
        },
        "id": "91T2Nrr1EBZe",
        "outputId": "4f00945a-4256-4b95-c79f-68e0b6c36f2d"
      },
      "execution_count": 92,
      "outputs": [
        {
          "output_type": "stream",
          "name": "stdout",
          "text": [
            "tensor(146000)\n",
            "CPU times: user 1.22 ms, sys: 33 µs, total: 1.26 ms\n",
            "Wall time: 1.28 ms\n"
          ]
        }
      ]
    },
    {
      "cell_type": "code",
      "source": [
        "%%time\n",
        "torch.matmul(tensor,tensor)"
      ],
      "metadata": {
        "colab": {
          "base_uri": "https://localhost:8080/"
        },
        "id": "vnaz2fFREWHB",
        "outputId": "26f955df-51ad-4455-ff3f-c9c4119cce1c"
      },
      "execution_count": 93,
      "outputs": [
        {
          "output_type": "stream",
          "name": "stdout",
          "text": [
            "CPU times: user 75 µs, sys: 11 µs, total: 86 µs\n",
            "Wall time: 90.4 µs\n"
          ]
        },
        {
          "output_type": "execute_result",
          "data": {
            "text/plain": [
              "tensor(146000)"
            ]
          },
          "metadata": {},
          "execution_count": 93
        }
      ]
    },
    {
      "cell_type": "markdown",
      "source": [
        "# One of the most common errors in deep learning: Shape errors"
      ],
      "metadata": {
        "id": "8RLdGW3vIXXN"
      }
    },
    {
      "cell_type": "code",
      "source": [
        "#Shapes for matrix multpication\n",
        "# tensor_A = torch.tensor([[1,2],\n",
        "#                          [3,4],\n",
        "#                          [5,6]])\n",
        "# tensor_B = torch.tensor([[7,10],\n",
        "#                          [8,11],\n",
        "#                          [9,12]])\n",
        "# torch.matmul(tensor_A,tensor_B)"
      ],
      "metadata": {
        "id": "alXUnwH0EmIa"
      },
      "execution_count": 94,
      "outputs": []
    },
    {
      "cell_type": "code",
      "source": [
        "tensor_A.shape, tensor_B.shape"
      ],
      "metadata": {
        "colab": {
          "base_uri": "https://localhost:8080/"
        },
        "id": "xXTyqEqoMZd_",
        "outputId": "805b0e90-8e93-4571-da00-8dbe0c9840a7"
      },
      "execution_count": 95,
      "outputs": [
        {
          "output_type": "execute_result",
          "data": {
            "text/plain": [
              "(torch.Size([3, 2]), torch.Size([3, 2]))"
            ]
          },
          "metadata": {},
          "execution_count": 95
        }
      ]
    },
    {
      "cell_type": "markdown",
      "source": [
        "To fix out tensor shape issues , we can manipulate the shape of the one of our tensor using **transpose**\n",
        "\n",
        "A **transpose** switches the axes or dimenstion of given tensor."
      ],
      "metadata": {
        "id": "X4ZlNDbzNANS"
      }
    },
    {
      "cell_type": "code",
      "source": [
        "tensor_B.T"
      ],
      "metadata": {
        "colab": {
          "base_uri": "https://localhost:8080/"
        },
        "id": "WFpNMk0zMoUB",
        "outputId": "28b825f5-f59b-42a3-e969-a70599b40102"
      },
      "execution_count": 96,
      "outputs": [
        {
          "output_type": "execute_result",
          "data": {
            "text/plain": [
              "tensor([[ 7,  8,  9],\n",
              "        [10, 11, 12]])"
            ]
          },
          "metadata": {},
          "execution_count": 96
        }
      ]
    },
    {
      "cell_type": "code",
      "source": [
        "tensor_B"
      ],
      "metadata": {
        "colab": {
          "base_uri": "https://localhost:8080/"
        },
        "id": "mdzpxmp8NY-s",
        "outputId": "04a4ad0c-fc31-4c2b-b424-7bbd8ccb48bf"
      },
      "execution_count": 97,
      "outputs": [
        {
          "output_type": "execute_result",
          "data": {
            "text/plain": [
              "tensor([[ 7, 10],\n",
              "        [ 8, 11],\n",
              "        [ 9, 12]])"
            ]
          },
          "metadata": {},
          "execution_count": 97
        }
      ]
    },
    {
      "cell_type": "code",
      "source": [
        "# the matrix multipication operation works when tensor_B is tranposed\n",
        "print(f\"Original shapes: tensor_A = {tensor_A.shape}, tensor_B = {tensor_B.shape}\")\n",
        "print(f\"New shapes: tensor_A = {tensor_A.shape}, tensor_B.T = {tensor_B.T.shape}\")\n",
        "print(f\"Multiplying : {tensor_A.shape} @ {tensor_B.T.shape} <- inner dimention must match\")\n",
        "print(\"Output:\\n\")\n",
        "output = torch.mm(tensor_A, tensor_B.T) # mm is same s matmul\n",
        "print(output)\n",
        "print(f\"\\n Output Shape : {output.shape}\")"
      ],
      "metadata": {
        "colab": {
          "base_uri": "https://localhost:8080/"
        },
        "id": "ZEcN_isLNafz",
        "outputId": "20c9b533-4351-4f29-f23a-33c0c4d9dbf5"
      },
      "execution_count": 98,
      "outputs": [
        {
          "output_type": "stream",
          "name": "stdout",
          "text": [
            "Original shapes: tensor_A = torch.Size([3, 2]), tensor_B = torch.Size([3, 2])\n",
            "New shapes: tensor_A = torch.Size([3, 2]), tensor_B.T = torch.Size([2, 3])\n",
            "Multiplying : torch.Size([3, 2]) @ torch.Size([2, 3]) <- inner dimention must match\n",
            "Output:\n",
            "\n",
            "tensor([[ 27,  30,  33],\n",
            "        [ 61,  68,  75],\n",
            "        [ 95, 106, 117]])\n",
            "\n",
            " Output Shape : torch.Size([3, 3])\n"
          ]
        }
      ]
    },
    {
      "cell_type": "markdown",
      "source": [
        "# Findning the min , max , sum , etc (tensor aggregation)"
      ],
      "metadata": {
        "id": "92HZ8_rnRw2l"
      }
    },
    {
      "cell_type": "code",
      "source": [
        "# Create a tensor\n",
        "x = torch.arange(0,100, 10,dtype=torch.float32)\n",
        "x"
      ],
      "metadata": {
        "colab": {
          "base_uri": "https://localhost:8080/"
        },
        "id": "roy89qAEN4Ml",
        "outputId": "a9c3f6b5-e1b4-4d63-cdcb-bade005669d2"
      },
      "execution_count": 99,
      "outputs": [
        {
          "output_type": "execute_result",
          "data": {
            "text/plain": [
              "tensor([ 0., 10., 20., 30., 40., 50., 60., 70., 80., 90.])"
            ]
          },
          "metadata": {},
          "execution_count": 99
        }
      ]
    },
    {
      "cell_type": "code",
      "source": [
        "torch.min(x) ,x.min()"
      ],
      "metadata": {
        "colab": {
          "base_uri": "https://localhost:8080/"
        },
        "id": "eU6oGdSJR61_",
        "outputId": "b88d8ec2-4e3d-415c-bdc4-9ec6d5bcfc9f"
      },
      "execution_count": 100,
      "outputs": [
        {
          "output_type": "execute_result",
          "data": {
            "text/plain": [
              "(tensor(0.), tensor(0.))"
            ]
          },
          "metadata": {},
          "execution_count": 100
        }
      ]
    },
    {
      "cell_type": "code",
      "source": [
        "#find max\n",
        "x.max()"
      ],
      "metadata": {
        "colab": {
          "base_uri": "https://localhost:8080/"
        },
        "id": "OgX2vDxhSGLn",
        "outputId": "1afd6bab-979f-4154-8972-e3ee0a7146a4"
      },
      "execution_count": 101,
      "outputs": [
        {
          "output_type": "execute_result",
          "data": {
            "text/plain": [
              "tensor(90.)"
            ]
          },
          "metadata": {},
          "execution_count": 101
        }
      ]
    },
    {
      "cell_type": "code",
      "source": [
        "# find mean\n",
        "#torch.mean(x.type(torch.float32))\n",
        "torch.mean(x)"
      ],
      "metadata": {
        "colab": {
          "base_uri": "https://localhost:8080/"
        },
        "id": "Xc6wpXe7SK4Y",
        "outputId": "294e13a7-cad3-4ff8-a9a0-b86d850c8e21"
      },
      "execution_count": 102,
      "outputs": [
        {
          "output_type": "execute_result",
          "data": {
            "text/plain": [
              "tensor(45.)"
            ]
          },
          "metadata": {},
          "execution_count": 102
        }
      ]
    },
    {
      "cell_type": "code",
      "source": [
        "#find sum\n",
        "torch.sum(x)"
      ],
      "metadata": {
        "colab": {
          "base_uri": "https://localhost:8080/"
        },
        "id": "EC17sxmnSqEz",
        "outputId": "56ff3f9a-f4cf-4a90-9873-85ee47b89a63"
      },
      "execution_count": 103,
      "outputs": [
        {
          "output_type": "execute_result",
          "data": {
            "text/plain": [
              "tensor(450.)"
            ]
          },
          "metadata": {},
          "execution_count": 103
        }
      ]
    },
    {
      "cell_type": "markdown",
      "source": [
        "# Finding the posional min and max"
      ],
      "metadata": {
        "id": "1uWIZda1UQ1g"
      }
    },
    {
      "cell_type": "code",
      "source": [
        "x"
      ],
      "metadata": {
        "colab": {
          "base_uri": "https://localhost:8080/"
        },
        "id": "uXgsxXBdTbPf",
        "outputId": "f78f97d2-3b9c-4df6-dd6a-5f19d379dd6e"
      },
      "execution_count": 104,
      "outputs": [
        {
          "output_type": "execute_result",
          "data": {
            "text/plain": [
              "tensor([ 0., 10., 20., 30., 40., 50., 60., 70., 80., 90.])"
            ]
          },
          "metadata": {},
          "execution_count": 104
        }
      ]
    },
    {
      "cell_type": "code",
      "source": [
        "x[0]"
      ],
      "metadata": {
        "colab": {
          "base_uri": "https://localhost:8080/"
        },
        "id": "MkcFUbedUUHu",
        "outputId": "2fc92e36-a8f3-40a7-bda8-f68bf4ff8da1"
      },
      "execution_count": 105,
      "outputs": [
        {
          "output_type": "execute_result",
          "data": {
            "text/plain": [
              "tensor(0.)"
            ]
          },
          "metadata": {},
          "execution_count": 105
        }
      ]
    },
    {
      "cell_type": "code",
      "source": [
        "#Find the position tensor that he the minimum alue with argim() -> returns index position of that min value\n",
        "x.argmin()"
      ],
      "metadata": {
        "colab": {
          "base_uri": "https://localhost:8080/"
        },
        "id": "ouYwRChfUVcH",
        "outputId": "01dc3a58-5a77-4734-b861-97e007125752"
      },
      "execution_count": 106,
      "outputs": [
        {
          "output_type": "execute_result",
          "data": {
            "text/plain": [
              "tensor(0)"
            ]
          },
          "metadata": {},
          "execution_count": 106
        }
      ]
    },
    {
      "cell_type": "code",
      "source": [
        "#Find the position in tensor that has the maximum value with argmax()\n",
        "x.argmax()"
      ],
      "metadata": {
        "colab": {
          "base_uri": "https://localhost:8080/"
        },
        "id": "agtOXsEUUhgv",
        "outputId": "952024eb-7b00-49fe-dab5-32a3a7b57a96"
      },
      "execution_count": 107,
      "outputs": [
        {
          "output_type": "execute_result",
          "data": {
            "text/plain": [
              "tensor(9)"
            ]
          },
          "metadata": {},
          "execution_count": 107
        }
      ]
    },
    {
      "cell_type": "markdown",
      "source": [
        "# Reshaping stacking , squeezing and unsqueezing tensor\n",
        "\n",
        "* Reshaping - reshapes an input tensor to defined shape\n",
        "* View - Return a view of an input tensor of certain shape but keep the same memory\n",
        "* Stacking - Comibine multiple tensors on top of each other -> https://pytorch.org/docs/stable/generated/torch.stack.html\n",
        "* squeez - removes all `1` dimensions from tensor\n",
        "* Unsqueeze - add a `1` dimenstion to a target tensor\n",
        "Permute - return a view of the input with dimention permuted (swapped) in a certain way\n"
      ],
      "metadata": {
        "id": "klYF44nyhfEA"
      }
    },
    {
      "cell_type": "code",
      "source": [
        "# Lets create a tensor\n",
        "import torch\n",
        "y = torch.arange(1.,10.)\n",
        "y , y.shape"
      ],
      "metadata": {
        "id": "DD1ZhTdRUsMK",
        "colab": {
          "base_uri": "https://localhost:8080/"
        },
        "outputId": "e5460108-282b-437f-d1fd-a2333380c971"
      },
      "execution_count": 108,
      "outputs": [
        {
          "output_type": "execute_result",
          "data": {
            "text/plain": [
              "(tensor([1., 2., 3., 4., 5., 6., 7., 8., 9.]), torch.Size([9]))"
            ]
          },
          "metadata": {},
          "execution_count": 108
        }
      ]
    },
    {
      "cell_type": "code",
      "source": [
        "y_reshaped = y.reshape(1,9)\n",
        "y_reshaped"
      ],
      "metadata": {
        "colab": {
          "base_uri": "https://localhost:8080/"
        },
        "id": "mBJNnVrBimZ6",
        "outputId": "f0775bc7-960f-44a1-8aeb-ddd9818f5eb5"
      },
      "execution_count": 109,
      "outputs": [
        {
          "output_type": "execute_result",
          "data": {
            "text/plain": [
              "tensor([[1., 2., 3., 4., 5., 6., 7., 8., 9.]])"
            ]
          },
          "metadata": {},
          "execution_count": 109
        }
      ]
    },
    {
      "cell_type": "code",
      "source": [
        "y_reshaped2 = y.reshape(9,1)\n",
        "y_reshaped2"
      ],
      "metadata": {
        "colab": {
          "base_uri": "https://localhost:8080/"
        },
        "id": "v7rN3cyBitWH",
        "outputId": "3168ace8-a865-41bf-8be4-658f6c9dd63c"
      },
      "execution_count": 110,
      "outputs": [
        {
          "output_type": "execute_result",
          "data": {
            "text/plain": [
              "tensor([[1.],\n",
              "        [2.],\n",
              "        [3.],\n",
              "        [4.],\n",
              "        [5.],\n",
              "        [6.],\n",
              "        [7.],\n",
              "        [8.],\n",
              "        [9.]])"
            ]
          },
          "metadata": {},
          "execution_count": 110
        }
      ]
    },
    {
      "cell_type": "code",
      "source": [
        "y_reshaped3 = y.reshape(3,3)\n",
        "y_reshaped3\n"
      ],
      "metadata": {
        "colab": {
          "base_uri": "https://localhost:8080/"
        },
        "id": "93ImYtP5jFX8",
        "outputId": "8438f19b-a0b7-4f3b-a976-6c86fc762bdf"
      },
      "execution_count": 111,
      "outputs": [
        {
          "output_type": "execute_result",
          "data": {
            "text/plain": [
              "tensor([[1., 2., 3.],\n",
              "        [4., 5., 6.],\n",
              "        [7., 8., 9.]])"
            ]
          },
          "metadata": {},
          "execution_count": 111
        }
      ]
    },
    {
      "cell_type": "code",
      "source": [
        "# lets create new tensor\n",
        "z = torch.arange(1,10)\n",
        "z, z.shape"
      ],
      "metadata": {
        "colab": {
          "base_uri": "https://localhost:8080/"
        },
        "id": "5LzHwAR_jQwj",
        "outputId": "e7cd5c67-7dae-4267-e0cb-7247fe4eb40f"
      },
      "execution_count": 126,
      "outputs": [
        {
          "output_type": "execute_result",
          "data": {
            "text/plain": [
              "(tensor([1, 2, 3, 4, 5, 6, 7, 8, 9]), torch.Size([9]))"
            ]
          },
          "metadata": {},
          "execution_count": 126
        }
      ]
    },
    {
      "cell_type": "code",
      "source": [
        "z_reshaped1 = z.reshape(1,9)\n",
        "z_reshaped1"
      ],
      "metadata": {
        "colab": {
          "base_uri": "https://localhost:8080/"
        },
        "id": "7lNI0K2Xj18d",
        "outputId": "1e4f4bf8-d1a8-4077-e2dd-a7fb5b955fd2"
      },
      "execution_count": 127,
      "outputs": [
        {
          "output_type": "execute_result",
          "data": {
            "text/plain": [
              "tensor([[1, 2, 3, 4, 5, 6, 7, 8, 9]])"
            ]
          },
          "metadata": {},
          "execution_count": 127
        }
      ]
    },
    {
      "cell_type": "code",
      "source": [
        "z_reshaped1 = z.reshape(1,9)\n",
        "z_reshaped1, z_reshaped1.shape"
      ],
      "metadata": {
        "colab": {
          "base_uri": "https://localhost:8080/"
        },
        "id": "lQI7KWyFkHXA",
        "outputId": "8f934152-bdc4-4000-e1e4-31686afb68b3"
      },
      "execution_count": 128,
      "outputs": [
        {
          "output_type": "execute_result",
          "data": {
            "text/plain": [
              "(tensor([[1, 2, 3, 4, 5, 6, 7, 8, 9]]), torch.Size([1, 9]))"
            ]
          },
          "metadata": {},
          "execution_count": 128
        }
      ]
    },
    {
      "cell_type": "code",
      "source": [
        "# Change the view\n",
        "h = z.view(1,9)\n",
        "h , h.shape\n"
      ],
      "metadata": {
        "colab": {
          "base_uri": "https://localhost:8080/"
        },
        "id": "Z_imfo03kSap",
        "outputId": "f5cc0621-2c1c-4398-dbd4-0c5a5764e1da"
      },
      "execution_count": 129,
      "outputs": [
        {
          "output_type": "execute_result",
          "data": {
            "text/plain": [
              "(tensor([[1, 2, 3, 4, 5, 6, 7, 8, 9]]), torch.Size([1, 9]))"
            ]
          },
          "metadata": {},
          "execution_count": 129
        }
      ]
    },
    {
      "cell_type": "code",
      "source": [
        "# changing h is changes z ( becuase a view of tensor shares the same memory as the original)\n",
        "h[:, 0] = 5\n",
        "h, z"
      ],
      "metadata": {
        "colab": {
          "base_uri": "https://localhost:8080/"
        },
        "id": "X2Dwe-2HkvRN",
        "outputId": "3fa2e11b-c38e-41c3-d082-b73bfb7e46ed"
      },
      "execution_count": 130,
      "outputs": [
        {
          "output_type": "execute_result",
          "data": {
            "text/plain": [
              "(tensor([[5, 2, 3, 4, 5, 6, 7, 8, 9]]), tensor([5, 2, 3, 4, 5, 6, 7, 8, 9]))"
            ]
          },
          "metadata": {},
          "execution_count": 130
        }
      ]
    },
    {
      "cell_type": "code",
      "source": [
        "z"
      ],
      "metadata": {
        "colab": {
          "base_uri": "https://localhost:8080/"
        },
        "id": "-WoahD8VmOxg",
        "outputId": "591ee896-ed4a-448f-d3dd-9eb8c1723719"
      },
      "execution_count": 131,
      "outputs": [
        {
          "output_type": "execute_result",
          "data": {
            "text/plain": [
              "tensor([5, 2, 3, 4, 5, 6, 7, 8, 9])"
            ]
          },
          "metadata": {},
          "execution_count": 131
        }
      ]
    },
    {
      "cell_type": "code",
      "source": [
        "#stack tensors on top of each other\n",
        "z_stacked = torch.stack([z,z,z,z],dim = 1)\n",
        "z_stacked"
      ],
      "metadata": {
        "colab": {
          "base_uri": "https://localhost:8080/"
        },
        "id": "oy7xH_MildCS",
        "outputId": "6ba984dd-c3e9-4180-a83b-b6dbdcb8b030"
      },
      "execution_count": 132,
      "outputs": [
        {
          "output_type": "execute_result",
          "data": {
            "text/plain": [
              "tensor([[5, 5, 5, 5],\n",
              "        [2, 2, 2, 2],\n",
              "        [3, 3, 3, 3],\n",
              "        [4, 4, 4, 4],\n",
              "        [5, 5, 5, 5],\n",
              "        [6, 6, 6, 6],\n",
              "        [7, 7, 7, 7],\n",
              "        [8, 8, 8, 8],\n",
              "        [9, 9, 9, 9]])"
            ]
          },
          "metadata": {},
          "execution_count": 132
        }
      ]
    },
    {
      "cell_type": "code",
      "source": [
        "z.squeeze()"
      ],
      "metadata": {
        "colab": {
          "base_uri": "https://localhost:8080/"
        },
        "id": "IAeYgFwBl5P-",
        "outputId": "27bfca0d-beb3-4e77-cc7d-86741f5bcd48"
      },
      "execution_count": 133,
      "outputs": [
        {
          "output_type": "execute_result",
          "data": {
            "text/plain": [
              "tensor([5, 2, 3, 4, 5, 6, 7, 8, 9])"
            ]
          },
          "metadata": {},
          "execution_count": 133
        }
      ]
    },
    {
      "cell_type": "code",
      "source": [
        "z_reshaped1"
      ],
      "metadata": {
        "colab": {
          "base_uri": "https://localhost:8080/"
        },
        "id": "-Is4KjKgm7Hm",
        "outputId": "5871ccd1-616a-43f2-c084-22491d2b3044"
      },
      "execution_count": 134,
      "outputs": [
        {
          "output_type": "execute_result",
          "data": {
            "text/plain": [
              "tensor([[5, 2, 3, 4, 5, 6, 7, 8, 9]])"
            ]
          },
          "metadata": {},
          "execution_count": 134
        }
      ]
    },
    {
      "cell_type": "code",
      "source": [
        "z_reshaped1.squeeze()"
      ],
      "metadata": {
        "colab": {
          "base_uri": "https://localhost:8080/"
        },
        "id": "y7EYuLMVm2QQ",
        "outputId": "b464f62d-239b-44cd-8371-fa93c73b80b1"
      },
      "execution_count": 135,
      "outputs": [
        {
          "output_type": "execute_result",
          "data": {
            "text/plain": [
              "tensor([5, 2, 3, 4, 5, 6, 7, 8, 9])"
            ]
          },
          "metadata": {},
          "execution_count": 135
        }
      ]
    },
    {
      "cell_type": "code",
      "source": [
        "z_reshaped1.unsqueeze(dim=1)"
      ],
      "metadata": {
        "colab": {
          "base_uri": "https://localhost:8080/"
        },
        "id": "VZGYGUjAmhXx",
        "outputId": "e6a76417-fa7a-4c07-8196-aef40e2d0a0a"
      },
      "execution_count": 136,
      "outputs": [
        {
          "output_type": "execute_result",
          "data": {
            "text/plain": [
              "tensor([[[5, 2, 3, 4, 5, 6, 7, 8, 9]]])"
            ]
          },
          "metadata": {},
          "execution_count": 136
        }
      ]
    },
    {
      "cell_type": "code",
      "source": [
        "print(f\"Previus tensor: {z_reshaped1}\")\n",
        "print(f\"Previes shape: {z_reshaped1.shape}\")\n",
        "\n",
        "#Remove Extra Dimentions from z_reshaped\n",
        "z_squeezed = z_reshaped1.squeeze()\n",
        "print(f\"\\nNew tensor: {z_squeezed}\")\n",
        "print(f\"New shape: {z_squeezed.shape}\")"
      ],
      "metadata": {
        "id": "prJCv4shmmj7",
        "colab": {
          "base_uri": "https://localhost:8080/"
        },
        "outputId": "6f4b476f-8ba9-4911-9e03-2680c25e7582"
      },
      "execution_count": 137,
      "outputs": [
        {
          "output_type": "stream",
          "name": "stdout",
          "text": [
            "Previus tensor: tensor([[5, 2, 3, 4, 5, 6, 7, 8, 9]])\n",
            "Previes shape: torch.Size([1, 9])\n",
            "\n",
            "New tensor: tensor([5, 2, 3, 4, 5, 6, 7, 8, 9])\n",
            "New shape: torch.Size([9])\n"
          ]
        }
      ]
    },
    {
      "cell_type": "code",
      "source": [
        "# torch.unsqueeze() - Adds a single dimension to a target tensor at a specific dim(dimention)\n",
        "print(f\"previues target: {z_squeezed}\")\n",
        "print(f\"Previuues Shape: {z_squeezed.shape}\")\n",
        "\n",
        "# Add an extra dimention with unsqeeze\n",
        "z_unsqueezed = z_squeezed.unsqueeze(dim=0)\n",
        "print(f\"\\nNew tensor: {z_unsqueezed}\")\n",
        "print(f\"New Shape: {z_unsqueezed.shape}\")"
      ],
      "metadata": {
        "colab": {
          "base_uri": "https://localhost:8080/"
        },
        "id": "MIEArfmZWtQB",
        "outputId": "6ee38d87-8fbd-4f84-e814-ec4a80a5b678"
      },
      "execution_count": 141,
      "outputs": [
        {
          "output_type": "stream",
          "name": "stdout",
          "text": [
            "previues target: tensor([5, 2, 3, 4, 5, 6, 7, 8, 9])\n",
            "Previuues Shape: torch.Size([9])\n",
            "\n",
            "New tensor: tensor([[5, 2, 3, 4, 5, 6, 7, 8, 9]])\n",
            "New Shape: torch.Size([1, 9])\n"
          ]
        }
      ]
    },
    {
      "cell_type": "code",
      "source": [
        "# torch.permute - rearaanges the dimentsion of target tensor  in order\n",
        "x_original = torch.rand(size=(224,224,3)) #[height , width , color_channel]\n",
        "# permute the original tensor to rearrange the axis (or dim) order\n",
        "x_permuted = x_original.permute(2, 0 , 1) # shifts axis 0->1 , 1->2 , 2->0\n",
        "\n",
        "print(f\"previes shape : {x_original.shape}\")\n",
        "print(f\"new shape: {x_permuted.shape}\") #[ color_channale , height , width]\n"
      ],
      "metadata": {
        "colab": {
          "base_uri": "https://localhost:8080/"
        },
        "id": "htnAUyOpXYq8",
        "outputId": "f896301f-61e3-4f01-822c-dc055636a7fc"
      },
      "execution_count": 142,
      "outputs": [
        {
          "output_type": "stream",
          "name": "stdout",
          "text": [
            "previes shape : torch.Size([224, 224, 3])\n",
            "new shape: torch.Size([3, 224, 224])\n"
          ]
        }
      ]
    },
    {
      "cell_type": "code",
      "source": [
        "x_original[0,0,0]"
      ],
      "metadata": {
        "colab": {
          "base_uri": "https://localhost:8080/"
        },
        "id": "X43Q7g6JYrio",
        "outputId": "37a24eb4-a682-43ef-a0d5-bef2eebe534f"
      },
      "execution_count": 145,
      "outputs": [
        {
          "output_type": "execute_result",
          "data": {
            "text/plain": [
              "tensor(0.1868)"
            ]
          },
          "metadata": {},
          "execution_count": 145
        }
      ]
    },
    {
      "cell_type": "code",
      "source": [],
      "metadata": {
        "id": "nTTXxSu3Y88J"
      },
      "execution_count": null,
      "outputs": []
    },
    {
      "cell_type": "markdown",
      "source": [
        "# Indexing (Selecting data from Tensor)\n",
        "Indexing with PyTorch is similar to indexing with Numpy\n"
      ],
      "metadata": {
        "id": "OFPnObxaZQh0"
      }
    },
    {
      "cell_type": "code",
      "source": [
        "#Create Tensor\n",
        "import torch\n",
        "x = torch.arange(1,10).reshape(1,3,3)\n",
        "x , x.shape"
      ],
      "metadata": {
        "colab": {
          "base_uri": "https://localhost:8080/"
        },
        "id": "fllFKWa-Zg49",
        "outputId": "d5d3ce56-e06f-4082-9627-e74265ab1bf6"
      },
      "execution_count": 147,
      "outputs": [
        {
          "output_type": "execute_result",
          "data": {
            "text/plain": [
              "(tensor([[[1, 2, 3],\n",
              "          [4, 5, 6],\n",
              "          [7, 8, 9]]]),\n",
              " torch.Size([1, 3, 3]))"
            ]
          },
          "metadata": {},
          "execution_count": 147
        }
      ]
    },
    {
      "cell_type": "code",
      "source": [
        "# lets index our new tensor\n",
        "x[0]"
      ],
      "metadata": {
        "colab": {
          "base_uri": "https://localhost:8080/"
        },
        "id": "oxtDprcTZxdW",
        "outputId": "5b870ff6-444d-425c-8759-9baa7dae1382"
      },
      "execution_count": 148,
      "outputs": [
        {
          "output_type": "execute_result",
          "data": {
            "text/plain": [
              "tensor([[1, 2, 3],\n",
              "        [4, 5, 6],\n",
              "        [7, 8, 9]])"
            ]
          },
          "metadata": {},
          "execution_count": 148
        }
      ]
    },
    {
      "cell_type": "code",
      "source": [
        "# lets index on the middle brracket (dim=1)\n",
        "x[0][0] , x[0,0]"
      ],
      "metadata": {
        "colab": {
          "base_uri": "https://localhost:8080/"
        },
        "id": "gNjsQ-YbaAKX",
        "outputId": "cde78b81-b017-46c1-e439-3195b938ae4b"
      },
      "execution_count": 150,
      "outputs": [
        {
          "output_type": "execute_result",
          "data": {
            "text/plain": [
              "(tensor([1, 2, 3]), tensor([1, 2, 3]))"
            ]
          },
          "metadata": {},
          "execution_count": 150
        }
      ]
    },
    {
      "cell_type": "code",
      "source": [
        "#;ets index on the most inner bracket\n",
        "x[0][0][0]"
      ],
      "metadata": {
        "colab": {
          "base_uri": "https://localhost:8080/"
        },
        "id": "veHgr5BiaF3Q",
        "outputId": "e1d8a0ed-a3aa-479e-bc23-d2c6e6148251"
      },
      "execution_count": 153,
      "outputs": [
        {
          "output_type": "execute_result",
          "data": {
            "text/plain": [
              "tensor(1)"
            ]
          },
          "metadata": {},
          "execution_count": 153
        }
      ]
    },
    {
      "cell_type": "code",
      "source": [
        "x[0,2,2]"
      ],
      "metadata": {
        "colab": {
          "base_uri": "https://localhost:8080/"
        },
        "id": "rbCFfdI1aQZh",
        "outputId": "72cc75d5-1aba-47a5-e553-a4e63a8bce27"
      },
      "execution_count": 154,
      "outputs": [
        {
          "output_type": "execute_result",
          "data": {
            "text/plain": [
              "tensor(9)"
            ]
          },
          "metadata": {},
          "execution_count": 154
        }
      ]
    },
    {
      "cell_type": "code",
      "source": [
        "# You can use also \":\" to sellect all of the target dimension\n",
        "x[:,0]"
      ],
      "metadata": {
        "colab": {
          "base_uri": "https://localhost:8080/"
        },
        "id": "pKL16sjGaq8z",
        "outputId": "fd35048a-ea09-47e7-fa0d-fdda7654b02f"
      },
      "execution_count": 155,
      "outputs": [
        {
          "output_type": "execute_result",
          "data": {
            "text/plain": [
              "tensor([[1, 2, 3]])"
            ]
          },
          "metadata": {},
          "execution_count": 155
        }
      ]
    },
    {
      "cell_type": "code",
      "source": [
        "# Get all values of the 0th and 1st dimention but only index 1 of 2nd dimmention\n",
        "x[:,:,1]"
      ],
      "metadata": {
        "colab": {
          "base_uri": "https://localhost:8080/"
        },
        "id": "vaqrTvN0azPE",
        "outputId": "15e0b0b1-656b-4110-f16c-68f5bfd4048e"
      },
      "execution_count": 156,
      "outputs": [
        {
          "output_type": "execute_result",
          "data": {
            "text/plain": [
              "tensor([[2, 5, 8]])"
            ]
          },
          "metadata": {},
          "execution_count": 156
        }
      ]
    },
    {
      "cell_type": "code",
      "source": [
        "# get all values of the 0 dimention but only the 1 index value of 1st and 2nd dimention\n",
        "x[:,1,1]"
      ],
      "metadata": {
        "colab": {
          "base_uri": "https://localhost:8080/"
        },
        "id": "xGHYmFz-a7el",
        "outputId": "abc1418c-5578-4e61-ac47-e37fa5f7f97c"
      },
      "execution_count": 157,
      "outputs": [
        {
          "output_type": "execute_result",
          "data": {
            "text/plain": [
              "tensor([5])"
            ]
          },
          "metadata": {},
          "execution_count": 157
        }
      ]
    },
    {
      "cell_type": "code",
      "source": [
        "# Get index 0 of 0h 1st dimention and all values of the 2nd dimention\n",
        "x[0,0,:]"
      ],
      "metadata": {
        "colab": {
          "base_uri": "https://localhost:8080/"
        },
        "id": "jXb_AQG7bGe2",
        "outputId": "1149c7f1-1454-4bb5-dcb0-14d527574aa7"
      },
      "execution_count": 158,
      "outputs": [
        {
          "output_type": "execute_result",
          "data": {
            "text/plain": [
              "tensor([1, 2, 3])"
            ]
          },
          "metadata": {},
          "execution_count": 158
        }
      ]
    },
    {
      "cell_type": "code",
      "source": [
        "x\n"
      ],
      "metadata": {
        "colab": {
          "base_uri": "https://localhost:8080/"
        },
        "id": "3B8UkZINbS4H",
        "outputId": "70f17843-8b46-4bc5-9a03-91af703ae56a"
      },
      "execution_count": 159,
      "outputs": [
        {
          "output_type": "execute_result",
          "data": {
            "text/plain": [
              "tensor([[[1, 2, 3],\n",
              "         [4, 5, 6],\n",
              "         [7, 8, 9]]])"
            ]
          },
          "metadata": {},
          "execution_count": 159
        }
      ]
    },
    {
      "cell_type": "code",
      "source": [
        "# index on x to return 9\n",
        "# index on x to return 3,6,9\n",
        "x[0,2,2] , x[:,:,2]"
      ],
      "metadata": {
        "colab": {
          "base_uri": "https://localhost:8080/"
        },
        "id": "NhQBNMpCbflQ",
        "outputId": "ccddb597-d46a-420e-c03d-9e5a732a34c1"
      },
      "execution_count": 161,
      "outputs": [
        {
          "output_type": "execute_result",
          "data": {
            "text/plain": [
              "(tensor(9), tensor([[3, 6, 9]]))"
            ]
          },
          "metadata": {},
          "execution_count": 161
        }
      ]
    },
    {
      "cell_type": "markdown",
      "source": [
        "# Pytorch tensors & Numpy\n",
        "Numpy is a popular scientfic python numerical computing library\n",
        "And because of this, pytorch has functionality to intract with it\n",
        "* Data in numpy , want in pytorch tensor -> ` torch.from_numpy(ndarray)`\n",
        "* Pytorch tensor -> Numpy -> `torch.Tensor.numpy()`"
      ],
      "metadata": {
        "id": "XMz9FCVbJotN"
      }
    },
    {
      "cell_type": "code",
      "source": [
        "import torch\n",
        "import numpy as np\n",
        "\n",
        "array = np.arange(1.0,8.0)\n",
        "tensor = torch.from_numpy(array) # Warrining : when converting from numpy to pytorch , pytoch reflect defualt dtype of float64 unless speceffied otherwise\n",
        "array , tensor"
      ],
      "metadata": {
        "colab": {
          "base_uri": "https://localhost:8080/"
        },
        "id": "PlvDj31hbtzy",
        "outputId": "59494de0-b3f6-4788-ff75-41679d64f75d"
      },
      "execution_count": 5,
      "outputs": [
        {
          "output_type": "execute_result",
          "data": {
            "text/plain": [
              "(array([1., 2., 3., 4., 5., 6., 7.]),\n",
              " tensor([1., 2., 3., 4., 5., 6., 7.], dtype=torch.float64))"
            ]
          },
          "metadata": {},
          "execution_count": 5
        }
      ]
    },
    {
      "cell_type": "code",
      "source": [
        "array.dtype"
      ],
      "metadata": {
        "colab": {
          "base_uri": "https://localhost:8080/"
        },
        "id": "wq2yYzE6Kjk2",
        "outputId": "682d5b88-c0e7-4ae2-e424-70e45ac07ee1"
      },
      "execution_count": 3,
      "outputs": [
        {
          "output_type": "execute_result",
          "data": {
            "text/plain": [
              "dtype('float64')"
            ]
          },
          "metadata": {},
          "execution_count": 3
        }
      ]
    },
    {
      "cell_type": "code",
      "source": [
        "torch.arange(1.0,8.0).dtype"
      ],
      "metadata": {
        "colab": {
          "base_uri": "https://localhost:8080/"
        },
        "id": "k2eKWazZKuJn",
        "outputId": "9ccca486-d733-46f0-b0d8-a45805aee37a"
      },
      "execution_count": 4,
      "outputs": [
        {
          "output_type": "execute_result",
          "data": {
            "text/plain": [
              "torch.float32"
            ]
          },
          "metadata": {},
          "execution_count": 4
        }
      ]
    },
    {
      "cell_type": "code",
      "source": [
        "# Change the value of array , what will do this do to `tensor`?\n",
        "array = array +1\n",
        "array , tensor"
      ],
      "metadata": {
        "colab": {
          "base_uri": "https://localhost:8080/"
        },
        "id": "e_k7L9RrK02Y",
        "outputId": "b01c8c18-f8be-41d4-84df-1581d60b3e0b"
      },
      "execution_count": 6,
      "outputs": [
        {
          "output_type": "execute_result",
          "data": {
            "text/plain": [
              "(array([2., 3., 4., 5., 6., 7., 8.]),\n",
              " tensor([1., 2., 3., 4., 5., 6., 7.], dtype=torch.float64))"
            ]
          },
          "metadata": {},
          "execution_count": 6
        }
      ]
    },
    {
      "cell_type": "code",
      "source": [
        "# tensor to numpy array\n",
        "tensor = torch.ones(7)\n",
        "numpy_tensor = tensor.numpy()\n",
        "tensor, numpy_tensor"
      ],
      "metadata": {
        "colab": {
          "base_uri": "https://localhost:8080/"
        },
        "id": "ZQClqAN-LRRT",
        "outputId": "f48e9a15-4edc-4f44-ddbf-66b28979d0f0"
      },
      "execution_count": 7,
      "outputs": [
        {
          "output_type": "execute_result",
          "data": {
            "text/plain": [
              "(tensor([1., 1., 1., 1., 1., 1., 1.]),\n",
              " array([1., 1., 1., 1., 1., 1., 1.], dtype=float32))"
            ]
          },
          "metadata": {},
          "execution_count": 7
        }
      ]
    },
    {
      "cell_type": "code",
      "source": [
        "# Change the tensor , what happens to `numpy_tensor`?\n",
        "tensor = tensor + 1\n",
        "tensor , numpy_tensor"
      ],
      "metadata": {
        "colab": {
          "base_uri": "https://localhost:8080/"
        },
        "id": "L5_h-pYNLg-V",
        "outputId": "ec9847d8-6ed2-4653-e212-bc14a2f6c1a5"
      },
      "execution_count": 8,
      "outputs": [
        {
          "output_type": "execute_result",
          "data": {
            "text/plain": [
              "(tensor([2., 2., 2., 2., 2., 2., 2.]),\n",
              " array([1., 1., 1., 1., 1., 1., 1.], dtype=float32))"
            ]
          },
          "metadata": {},
          "execution_count": 8
        }
      ]
    },
    {
      "cell_type": "markdown",
      "source": [
        "# Reproduciblity ( trying to take random out of random )\n",
        "\n",
        "In short how a nural network learns:\n",
        "`start with random numbers -> tensor opration -> update random numbers to try and make them better representation of the data -> agian -> again -> again...`\n",
        "\n",
        "To reduce randomness in nural networks and Pytorch comes the concept of **random Seed**\n",
        "\n",
        "Essentialy what the random seed does is \"flavour\" the randomness.\n",
        "\n",
        "docs -> https://pytorch.org/docs/stable/notes/randomness.html"
      ],
      "metadata": {
        "id": "HlNmBawUL8Uf"
      }
    },
    {
      "cell_type": "code",
      "source": [
        "torch.rand(3,3)"
      ],
      "metadata": {
        "colab": {
          "base_uri": "https://localhost:8080/"
        },
        "id": "St6_xg6rLwYP",
        "outputId": "bd7b618f-b4cf-4a09-80a1-8b8aa103f836"
      },
      "execution_count": 9,
      "outputs": [
        {
          "output_type": "execute_result",
          "data": {
            "text/plain": [
              "tensor([[0.4708, 0.8117, 0.8195],\n",
              "        [0.4768, 0.1870, 0.6160],\n",
              "        [0.6490, 0.2963, 0.2408]])"
            ]
          },
          "metadata": {},
          "execution_count": 9
        }
      ]
    },
    {
      "cell_type": "code",
      "source": [
        "import torch\n",
        "\n",
        "# create two random tensors\n",
        "random_tensor_A = torch.rand(3,4)\n",
        "random_tensor_B = torch.rand(3,4)\n",
        "\n",
        "print(random_tensor_A)\n",
        "print(random_tensor_B)\n",
        "print(random_tensor_A == random_tensor_B)"
      ],
      "metadata": {
        "colab": {
          "base_uri": "https://localhost:8080/"
        },
        "id": "eiXe5D5sMULq",
        "outputId": "9b39c381-833b-409a-affd-86d477c4295c"
      },
      "execution_count": 10,
      "outputs": [
        {
          "output_type": "stream",
          "name": "stdout",
          "text": [
            "tensor([[0.0150, 0.0143, 0.8559, 0.4124],\n",
            "        [0.1523, 0.0375, 0.9117, 0.0638],\n",
            "        [0.2128, 0.3508, 0.5137, 0.7096]])\n",
            "tensor([[0.9951, 0.1938, 0.7128, 0.2211],\n",
            "        [0.8905, 0.1630, 0.6509, 0.8525],\n",
            "        [0.0197, 0.0621, 0.7396, 0.4543]])\n",
            "tensor([[False, False, False, False],\n",
            "        [False, False, False, False],\n",
            "        [False, False, False, False]])\n"
          ]
        }
      ]
    },
    {
      "cell_type": "code",
      "source": [
        "# Lets make some random but reproducible tensors\n",
        "import torch\n",
        "\n",
        "# set the random seed\n",
        "RANDOM_SEED = 42\n",
        "torch.manual_seed(RANDOM_SEED)\n",
        "random_tensor_C = torch.rand(3,4)\n",
        "\n",
        "torch.manual_seed(RANDOM_SEED)\n",
        "random_tensor_D = torch.rand(3,4)\n",
        "\n",
        "print(random_tensor_C)\n",
        "print(random_tensor_D)\n",
        "print(random_tensor_C == random_tensor_D)"
      ],
      "metadata": {
        "colab": {
          "base_uri": "https://localhost:8080/"
        },
        "id": "jo59-CFsM8te",
        "outputId": "38caf01c-9be9-4a8e-ef35-7e598eee4f9e"
      },
      "execution_count": 18,
      "outputs": [
        {
          "output_type": "stream",
          "name": "stdout",
          "text": [
            "tensor([[0.8823, 0.9150, 0.3829, 0.9593],\n",
            "        [0.3904, 0.6009, 0.2566, 0.7936],\n",
            "        [0.9408, 0.1332, 0.9346, 0.5936]])\n",
            "tensor([[0.8823, 0.9150, 0.3829, 0.9593],\n",
            "        [0.3904, 0.6009, 0.2566, 0.7936],\n",
            "        [0.9408, 0.1332, 0.9346, 0.5936]])\n",
            "tensor([[True, True, True, True],\n",
            "        [True, True, True, True],\n",
            "        [True, True, True, True]])\n"
          ]
        }
      ]
    },
    {
      "cell_type": "markdown",
      "source": [
        "# Running tensors and Pytorch objects on the GPUs ( and making faster computations )\n"
      ],
      "metadata": {
        "id": "y7UySXlZO4Z-"
      }
    },
    {
      "cell_type": "markdown",
      "source": [
        "## Getting Gpu run and setup\n",
        "1. Easiest - Use google colab for a free GPU (options to upgrade as well)\n",
        "2. Use your own GPU\n",
        "3. Use cloud computing\n",
        "docs-> https://pytorch.org/docs/stable/notes/cuda.html"
      ],
      "metadata": {
        "id": "gPct5ATsPKjp"
      }
    },
    {
      "cell_type": "code",
      "source": [
        "!nvidia-smi"
      ],
      "metadata": {
        "colab": {
          "base_uri": "https://localhost:8080/"
        },
        "id": "i74eB83EN19F",
        "outputId": "ecf4359e-2fda-49fc-d791-1c9921118564"
      },
      "execution_count": 1,
      "outputs": [
        {
          "output_type": "stream",
          "name": "stdout",
          "text": [
            "Sun Jul 30 10:03:53 2023       \n",
            "+-----------------------------------------------------------------------------+\n",
            "| NVIDIA-SMI 525.105.17   Driver Version: 525.105.17   CUDA Version: 12.0     |\n",
            "|-------------------------------+----------------------+----------------------+\n",
            "| GPU  Name        Persistence-M| Bus-Id        Disp.A | Volatile Uncorr. ECC |\n",
            "| Fan  Temp  Perf  Pwr:Usage/Cap|         Memory-Usage | GPU-Util  Compute M. |\n",
            "|                               |                      |               MIG M. |\n",
            "|===============================+======================+======================|\n",
            "|   0  Tesla T4            Off  | 00000000:00:04.0 Off |                    0 |\n",
            "| N/A   62C    P8    12W /  70W |      0MiB / 15360MiB |      0%      Default |\n",
            "|                               |                      |                  N/A |\n",
            "+-------------------------------+----------------------+----------------------+\n",
            "                                                                               \n",
            "+-----------------------------------------------------------------------------+\n",
            "| Processes:                                                                  |\n",
            "|  GPU   GI   CI        PID   Type   Process name                  GPU Memory |\n",
            "|        ID   ID                                                   Usage      |\n",
            "|=============================================================================|\n",
            "|  No running processes found                                                 |\n",
            "+-----------------------------------------------------------------------------+\n"
          ]
        }
      ]
    },
    {
      "cell_type": "markdown",
      "source": [
        "### Check for Gpu Access with pytoch"
      ],
      "metadata": {
        "id": "rwa7lnIaQfam"
      }
    },
    {
      "cell_type": "code",
      "source": [
        "# Check for gpu access with pytorch\n",
        "import torch\n",
        "torch.cuda.is_available()"
      ],
      "metadata": {
        "colab": {
          "base_uri": "https://localhost:8080/"
        },
        "id": "BXbJAlLAQR76",
        "outputId": "bfbfef07-1a12-4616-f9db-b15d407acab9"
      },
      "execution_count": 2,
      "outputs": [
        {
          "output_type": "execute_result",
          "data": {
            "text/plain": [
              "True"
            ]
          },
          "metadata": {},
          "execution_count": 2
        }
      ]
    },
    {
      "cell_type": "code",
      "source": [
        "# Setup device agnostic code\n",
        "device = \"cuda\" if torch.cuda.is_available() else \"cpu\"\n",
        "device"
      ],
      "metadata": {
        "colab": {
          "base_uri": "https://localhost:8080/",
          "height": 35
        },
        "id": "Ux3oTD1yQvY2",
        "outputId": "6c591bf2-0082-4264-deff-a8828a3e6a67"
      },
      "execution_count": 3,
      "outputs": [
        {
          "output_type": "execute_result",
          "data": {
            "text/plain": [
              "'cuda'"
            ],
            "application/vnd.google.colaboratory.intrinsic+json": {
              "type": "string"
            }
          },
          "metadata": {},
          "execution_count": 3
        }
      ]
    },
    {
      "cell_type": "code",
      "source": [
        "# Count number of devices\n",
        "torch.cuda.device_count()\n"
      ],
      "metadata": {
        "colab": {
          "base_uri": "https://localhost:8080/"
        },
        "id": "aNpWi9eSRGjI",
        "outputId": "10a3cde1-e638-4e9f-f42d-0c57c406c7f8"
      },
      "execution_count": 4,
      "outputs": [
        {
          "output_type": "execute_result",
          "data": {
            "text/plain": [
              "1"
            ]
          },
          "metadata": {},
          "execution_count": 4
        }
      ]
    },
    {
      "cell_type": "markdown",
      "source": [
        "### 3. putting tensors ( and models ) on Gpu"
      ],
      "metadata": {
        "id": "oRGADxhISFX1"
      }
    },
    {
      "cell_type": "code",
      "source": [
        "#create a tensor ( defualt is on CPU)\n",
        "tensor = torch.tensor([1,2,3])\n",
        "\n",
        "#Tensor not on GPU\n",
        "print(tensor, tensor.device)\n"
      ],
      "metadata": {
        "colab": {
          "base_uri": "https://localhost:8080/"
        },
        "id": "jvbzatrxRPHJ",
        "outputId": "241c5ba2-098c-481f-cd75-e4fe1aedb49f"
      },
      "execution_count": 5,
      "outputs": [
        {
          "output_type": "stream",
          "name": "stdout",
          "text": [
            "tensor([1, 2, 3]) cpu\n"
          ]
        }
      ]
    },
    {
      "cell_type": "code",
      "source": [
        "# Move tensor to GPU (if availbale)\n",
        "tensor_on_gpu = tensor.to(device)\n",
        "tensor_on_gpu"
      ],
      "metadata": {
        "colab": {
          "base_uri": "https://localhost:8080/"
        },
        "id": "ZKVHXCFDSc9j",
        "outputId": "38d69258-d7d2-44a8-865e-4f63aa370118"
      },
      "execution_count": 6,
      "outputs": [
        {
          "output_type": "execute_result",
          "data": {
            "text/plain": [
              "tensor([1, 2, 3], device='cuda:0')"
            ]
          },
          "metadata": {},
          "execution_count": 6
        }
      ]
    },
    {
      "cell_type": "markdown",
      "source": [
        "### 4. Moving tensors back to CPU"
      ],
      "metadata": {
        "id": "D9iX3zwkTFmt"
      }
    },
    {
      "cell_type": "code",
      "source": [
        "# if tensor is on GPU , cant transform it to Numpy\n",
        "# tensor_on_gpu.numpy()"
      ],
      "metadata": {
        "id": "S6PBy-ioTC_-"
      },
      "execution_count": 9,
      "outputs": []
    },
    {
      "cell_type": "code",
      "source": [
        "# to fix the GPU with nupy issue , we can first set it to CPU\n",
        "tensor_back_on_cpu = tensor_on_gpu.cpu().numpy()\n",
        "tensor_back_on_cpu"
      ],
      "metadata": {
        "colab": {
          "base_uri": "https://localhost:8080/"
        },
        "id": "Gr0hYRltTOdj",
        "outputId": "fd9e5ac2-8a91-4a7f-ecde-47417023832d"
      },
      "execution_count": 10,
      "outputs": [
        {
          "output_type": "execute_result",
          "data": {
            "text/plain": [
              "array([1, 2, 3])"
            ]
          },
          "metadata": {},
          "execution_count": 10
        }
      ]
    },
    {
      "cell_type": "code",
      "source": [
        "tensor_on_gpu"
      ],
      "metadata": {
        "colab": {
          "base_uri": "https://localhost:8080/"
        },
        "id": "47JtQ_txTlMY",
        "outputId": "081b70e6-fbe4-4eb6-946a-4574a383cdca"
      },
      "execution_count": 11,
      "outputs": [
        {
          "output_type": "execute_result",
          "data": {
            "text/plain": [
              "tensor([1, 2, 3], device='cuda:0')"
            ]
          },
          "metadata": {},
          "execution_count": 11
        }
      ]
    },
    {
      "cell_type": "markdown",
      "source": [
        "# Exercies & Extra curriculium\n",
        "check the site -> https://www.learnpytorch.io/00_pytorch_fundamentals/#exercises"
      ],
      "metadata": {
        "id": "S_aisQv7UFdS"
      }
    },
    {
      "cell_type": "code",
      "source": [],
      "metadata": {
        "id": "_E7rjKfvTsxS"
      },
      "execution_count": null,
      "outputs": []
    }
  ]
}